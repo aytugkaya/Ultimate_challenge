{
 "cells": [
  {
   "cell_type": "markdown",
   "metadata": {},
   "source": [
    "### Import Necessary Modules and Load Json File"
   ]
  },
  {
   "cell_type": "code",
   "execution_count": 1,
   "metadata": {},
   "outputs": [
    {
     "data": {
      "text/html": [
       "<style>.container { width:90% !important; }</style>"
      ],
      "text/plain": [
       "<IPython.core.display.HTML object>"
      ]
     },
     "metadata": {},
     "output_type": "display_data"
    }
   ],
   "source": [
    "from IPython.core.display import display, HTML\n",
    "display(HTML(\"<style>.container { width:90% !important; }</style>\"))\n",
    "import pandas as pd\n",
    "from sklearn.linear_model import LogisticRegression\n",
    "from sklearn.model_selection import GridSearchCV\n",
    "from sklearn.ensemble import RandomForestClassifier"
   ]
  },
  {
   "cell_type": "code",
   "execution_count": 2,
   "metadata": {},
   "outputs": [],
   "source": [
    "import json\n",
    "from pandas.io.json import json_normalize"
   ]
  },
  {
   "cell_type": "code",
   "execution_count": 3,
   "metadata": {},
   "outputs": [],
   "source": [
    "file='ultimate_data_challenge.json'\n",
    "abc=json.load((open(file)))\n",
    "abc\n",
    "\n",
    "\n",
    "# Load Json and normalize into a DF, with required columns\n",
    "\n",
    "df1=pd.DataFrame(json_normalize(abc))"
   ]
  },
  {
   "cell_type": "markdown",
   "metadata": {},
   "source": [
    "### EDA"
   ]
  },
  {
   "cell_type": "code",
   "execution_count": 4,
   "metadata": {
    "scrolled": true
   },
   "outputs": [
    {
     "data": {
      "text/html": [
       "<div>\n",
       "<style scoped>\n",
       "    .dataframe tbody tr th:only-of-type {\n",
       "        vertical-align: middle;\n",
       "    }\n",
       "\n",
       "    .dataframe tbody tr th {\n",
       "        vertical-align: top;\n",
       "    }\n",
       "\n",
       "    .dataframe thead th {\n",
       "        text-align: right;\n",
       "    }\n",
       "</style>\n",
       "<table border=\"1\" class=\"dataframe\">\n",
       "  <thead>\n",
       "    <tr style=\"text-align: right;\">\n",
       "      <th></th>\n",
       "      <th>avg_dist</th>\n",
       "      <th>avg_rating_by_driver</th>\n",
       "      <th>avg_rating_of_driver</th>\n",
       "      <th>avg_surge</th>\n",
       "      <th>city</th>\n",
       "      <th>last_trip_date</th>\n",
       "      <th>phone</th>\n",
       "      <th>signup_date</th>\n",
       "      <th>surge_pct</th>\n",
       "      <th>trips_in_first_30_days</th>\n",
       "      <th>ultimate_black_user</th>\n",
       "      <th>weekday_pct</th>\n",
       "    </tr>\n",
       "  </thead>\n",
       "  <tbody>\n",
       "    <tr>\n",
       "      <th>0</th>\n",
       "      <td>3.67</td>\n",
       "      <td>5.0</td>\n",
       "      <td>4.7</td>\n",
       "      <td>1.10</td>\n",
       "      <td>King's Landing</td>\n",
       "      <td>2014-06-17</td>\n",
       "      <td>iPhone</td>\n",
       "      <td>2014-01-25</td>\n",
       "      <td>15.4</td>\n",
       "      <td>4</td>\n",
       "      <td>True</td>\n",
       "      <td>46.2</td>\n",
       "    </tr>\n",
       "    <tr>\n",
       "      <th>1</th>\n",
       "      <td>8.26</td>\n",
       "      <td>5.0</td>\n",
       "      <td>5.0</td>\n",
       "      <td>1.00</td>\n",
       "      <td>Astapor</td>\n",
       "      <td>2014-05-05</td>\n",
       "      <td>Android</td>\n",
       "      <td>2014-01-29</td>\n",
       "      <td>0.0</td>\n",
       "      <td>0</td>\n",
       "      <td>False</td>\n",
       "      <td>50.0</td>\n",
       "    </tr>\n",
       "    <tr>\n",
       "      <th>2</th>\n",
       "      <td>0.77</td>\n",
       "      <td>5.0</td>\n",
       "      <td>4.3</td>\n",
       "      <td>1.00</td>\n",
       "      <td>Astapor</td>\n",
       "      <td>2014-01-07</td>\n",
       "      <td>iPhone</td>\n",
       "      <td>2014-01-06</td>\n",
       "      <td>0.0</td>\n",
       "      <td>3</td>\n",
       "      <td>False</td>\n",
       "      <td>100.0</td>\n",
       "    </tr>\n",
       "    <tr>\n",
       "      <th>3</th>\n",
       "      <td>2.36</td>\n",
       "      <td>4.9</td>\n",
       "      <td>4.6</td>\n",
       "      <td>1.14</td>\n",
       "      <td>King's Landing</td>\n",
       "      <td>2014-06-29</td>\n",
       "      <td>iPhone</td>\n",
       "      <td>2014-01-10</td>\n",
       "      <td>20.0</td>\n",
       "      <td>9</td>\n",
       "      <td>True</td>\n",
       "      <td>80.0</td>\n",
       "    </tr>\n",
       "    <tr>\n",
       "      <th>4</th>\n",
       "      <td>3.13</td>\n",
       "      <td>4.9</td>\n",
       "      <td>4.4</td>\n",
       "      <td>1.19</td>\n",
       "      <td>Winterfell</td>\n",
       "      <td>2014-03-15</td>\n",
       "      <td>Android</td>\n",
       "      <td>2014-01-27</td>\n",
       "      <td>11.8</td>\n",
       "      <td>14</td>\n",
       "      <td>False</td>\n",
       "      <td>82.4</td>\n",
       "    </tr>\n",
       "  </tbody>\n",
       "</table>\n",
       "</div>"
      ],
      "text/plain": [
       "   avg_dist  avg_rating_by_driver  avg_rating_of_driver  avg_surge  \\\n",
       "0      3.67                   5.0                   4.7       1.10   \n",
       "1      8.26                   5.0                   5.0       1.00   \n",
       "2      0.77                   5.0                   4.3       1.00   \n",
       "3      2.36                   4.9                   4.6       1.14   \n",
       "4      3.13                   4.9                   4.4       1.19   \n",
       "\n",
       "             city last_trip_date    phone signup_date  surge_pct  \\\n",
       "0  King's Landing     2014-06-17   iPhone  2014-01-25       15.4   \n",
       "1         Astapor     2014-05-05  Android  2014-01-29        0.0   \n",
       "2         Astapor     2014-01-07   iPhone  2014-01-06        0.0   \n",
       "3  King's Landing     2014-06-29   iPhone  2014-01-10       20.0   \n",
       "4      Winterfell     2014-03-15  Android  2014-01-27       11.8   \n",
       "\n",
       "   trips_in_first_30_days  ultimate_black_user  weekday_pct  \n",
       "0                       4                 True         46.2  \n",
       "1                       0                False         50.0  \n",
       "2                       3                False        100.0  \n",
       "3                       9                 True         80.0  \n",
       "4                      14                False         82.4  "
      ]
     },
     "execution_count": 4,
     "metadata": {},
     "output_type": "execute_result"
    }
   ],
   "source": [
    "df1.head()"
   ]
  },
  {
   "cell_type": "code",
   "execution_count": 5,
   "metadata": {},
   "outputs": [],
   "source": [
    "file='logins.json'\n",
    "abc=json.load((open(file)))\n",
    "\n",
    "df2=pd.DataFrame(json_normalize(abc,'login_time'))"
   ]
  },
  {
   "cell_type": "code",
   "execution_count": 6,
   "metadata": {},
   "outputs": [],
   "source": [
    "df2.rename(columns={0:'login_time'},inplace=True)"
   ]
  },
  {
   "cell_type": "code",
   "execution_count": 7,
   "metadata": {
    "scrolled": true
   },
   "outputs": [
    {
     "data": {
      "text/html": [
       "<div>\n",
       "<style scoped>\n",
       "    .dataframe tbody tr th:only-of-type {\n",
       "        vertical-align: middle;\n",
       "    }\n",
       "\n",
       "    .dataframe tbody tr th {\n",
       "        vertical-align: top;\n",
       "    }\n",
       "\n",
       "    .dataframe thead th {\n",
       "        text-align: right;\n",
       "    }\n",
       "</style>\n",
       "<table border=\"1\" class=\"dataframe\">\n",
       "  <thead>\n",
       "    <tr style=\"text-align: right;\">\n",
       "      <th></th>\n",
       "      <th>login_time</th>\n",
       "    </tr>\n",
       "  </thead>\n",
       "  <tbody>\n",
       "    <tr>\n",
       "      <th>0</th>\n",
       "      <td>1970-01-01 20:13:18</td>\n",
       "    </tr>\n",
       "    <tr>\n",
       "      <th>1</th>\n",
       "      <td>1970-01-01 20:16:10</td>\n",
       "    </tr>\n",
       "    <tr>\n",
       "      <th>2</th>\n",
       "      <td>1970-01-01 20:16:37</td>\n",
       "    </tr>\n",
       "    <tr>\n",
       "      <th>3</th>\n",
       "      <td>1970-01-01 20:16:36</td>\n",
       "    </tr>\n",
       "    <tr>\n",
       "      <th>4</th>\n",
       "      <td>1970-01-01 20:26:21</td>\n",
       "    </tr>\n",
       "  </tbody>\n",
       "</table>\n",
       "</div>"
      ],
      "text/plain": [
       "            login_time\n",
       "0  1970-01-01 20:13:18\n",
       "1  1970-01-01 20:16:10\n",
       "2  1970-01-01 20:16:37\n",
       "3  1970-01-01 20:16:36\n",
       "4  1970-01-01 20:26:21"
      ]
     },
     "execution_count": 7,
     "metadata": {},
     "output_type": "execute_result"
    }
   ],
   "source": [
    "df2.head()"
   ]
  },
  {
   "cell_type": "code",
   "execution_count": 8,
   "metadata": {},
   "outputs": [
    {
     "data": {
      "text/html": [
       "<div>\n",
       "<style scoped>\n",
       "    .dataframe tbody tr th:only-of-type {\n",
       "        vertical-align: middle;\n",
       "    }\n",
       "\n",
       "    .dataframe tbody tr th {\n",
       "        vertical-align: top;\n",
       "    }\n",
       "\n",
       "    .dataframe thead th {\n",
       "        text-align: right;\n",
       "    }\n",
       "</style>\n",
       "<table border=\"1\" class=\"dataframe\">\n",
       "  <thead>\n",
       "    <tr style=\"text-align: right;\">\n",
       "      <th></th>\n",
       "      <th>avg_dist</th>\n",
       "      <th>avg_rating_by_driver</th>\n",
       "      <th>avg_rating_of_driver</th>\n",
       "      <th>avg_surge</th>\n",
       "      <th>surge_pct</th>\n",
       "      <th>trips_in_first_30_days</th>\n",
       "      <th>weekday_pct</th>\n",
       "    </tr>\n",
       "  </thead>\n",
       "  <tbody>\n",
       "    <tr>\n",
       "      <th>count</th>\n",
       "      <td>50000.000000</td>\n",
       "      <td>49799.000000</td>\n",
       "      <td>41878.000000</td>\n",
       "      <td>50000.000000</td>\n",
       "      <td>50000.000000</td>\n",
       "      <td>50000.000000</td>\n",
       "      <td>50000.000000</td>\n",
       "    </tr>\n",
       "    <tr>\n",
       "      <th>mean</th>\n",
       "      <td>5.796827</td>\n",
       "      <td>4.778158</td>\n",
       "      <td>4.601559</td>\n",
       "      <td>1.074764</td>\n",
       "      <td>8.849536</td>\n",
       "      <td>2.278200</td>\n",
       "      <td>60.926084</td>\n",
       "    </tr>\n",
       "    <tr>\n",
       "      <th>std</th>\n",
       "      <td>5.707357</td>\n",
       "      <td>0.446652</td>\n",
       "      <td>0.617338</td>\n",
       "      <td>0.222336</td>\n",
       "      <td>19.958811</td>\n",
       "      <td>3.792684</td>\n",
       "      <td>37.081503</td>\n",
       "    </tr>\n",
       "    <tr>\n",
       "      <th>min</th>\n",
       "      <td>0.000000</td>\n",
       "      <td>1.000000</td>\n",
       "      <td>1.000000</td>\n",
       "      <td>1.000000</td>\n",
       "      <td>0.000000</td>\n",
       "      <td>0.000000</td>\n",
       "      <td>0.000000</td>\n",
       "    </tr>\n",
       "    <tr>\n",
       "      <th>25%</th>\n",
       "      <td>2.420000</td>\n",
       "      <td>4.700000</td>\n",
       "      <td>4.300000</td>\n",
       "      <td>1.000000</td>\n",
       "      <td>0.000000</td>\n",
       "      <td>0.000000</td>\n",
       "      <td>33.300000</td>\n",
       "    </tr>\n",
       "    <tr>\n",
       "      <th>50%</th>\n",
       "      <td>3.880000</td>\n",
       "      <td>5.000000</td>\n",
       "      <td>4.900000</td>\n",
       "      <td>1.000000</td>\n",
       "      <td>0.000000</td>\n",
       "      <td>1.000000</td>\n",
       "      <td>66.700000</td>\n",
       "    </tr>\n",
       "    <tr>\n",
       "      <th>75%</th>\n",
       "      <td>6.940000</td>\n",
       "      <td>5.000000</td>\n",
       "      <td>5.000000</td>\n",
       "      <td>1.050000</td>\n",
       "      <td>8.600000</td>\n",
       "      <td>3.000000</td>\n",
       "      <td>100.000000</td>\n",
       "    </tr>\n",
       "    <tr>\n",
       "      <th>max</th>\n",
       "      <td>160.960000</td>\n",
       "      <td>5.000000</td>\n",
       "      <td>5.000000</td>\n",
       "      <td>8.000000</td>\n",
       "      <td>100.000000</td>\n",
       "      <td>125.000000</td>\n",
       "      <td>100.000000</td>\n",
       "    </tr>\n",
       "  </tbody>\n",
       "</table>\n",
       "</div>"
      ],
      "text/plain": [
       "           avg_dist  avg_rating_by_driver  avg_rating_of_driver     avg_surge  \\\n",
       "count  50000.000000          49799.000000          41878.000000  50000.000000   \n",
       "mean       5.796827              4.778158              4.601559      1.074764   \n",
       "std        5.707357              0.446652              0.617338      0.222336   \n",
       "min        0.000000              1.000000              1.000000      1.000000   \n",
       "25%        2.420000              4.700000              4.300000      1.000000   \n",
       "50%        3.880000              5.000000              4.900000      1.000000   \n",
       "75%        6.940000              5.000000              5.000000      1.050000   \n",
       "max      160.960000              5.000000              5.000000      8.000000   \n",
       "\n",
       "          surge_pct  trips_in_first_30_days   weekday_pct  \n",
       "count  50000.000000            50000.000000  50000.000000  \n",
       "mean       8.849536                2.278200     60.926084  \n",
       "std       19.958811                3.792684     37.081503  \n",
       "min        0.000000                0.000000      0.000000  \n",
       "25%        0.000000                0.000000     33.300000  \n",
       "50%        0.000000                1.000000     66.700000  \n",
       "75%        8.600000                3.000000    100.000000  \n",
       "max      100.000000              125.000000    100.000000  "
      ]
     },
     "execution_count": 8,
     "metadata": {},
     "output_type": "execute_result"
    }
   ],
   "source": [
    "df1.describe()"
   ]
  },
  {
   "cell_type": "code",
   "execution_count": 9,
   "metadata": {},
   "outputs": [
    {
     "data": {
      "text/html": [
       "<div>\n",
       "<style scoped>\n",
       "    .dataframe tbody tr th:only-of-type {\n",
       "        vertical-align: middle;\n",
       "    }\n",
       "\n",
       "    .dataframe tbody tr th {\n",
       "        vertical-align: top;\n",
       "    }\n",
       "\n",
       "    .dataframe thead th {\n",
       "        text-align: right;\n",
       "    }\n",
       "</style>\n",
       "<table border=\"1\" class=\"dataframe\">\n",
       "  <thead>\n",
       "    <tr style=\"text-align: right;\">\n",
       "      <th></th>\n",
       "      <th>login_time</th>\n",
       "    </tr>\n",
       "  </thead>\n",
       "  <tbody>\n",
       "    <tr>\n",
       "      <th>count</th>\n",
       "      <td>93142</td>\n",
       "    </tr>\n",
       "    <tr>\n",
       "      <th>unique</th>\n",
       "      <td>92265</td>\n",
       "    </tr>\n",
       "    <tr>\n",
       "      <th>top</th>\n",
       "      <td>1970-03-17 01:01:39</td>\n",
       "    </tr>\n",
       "    <tr>\n",
       "      <th>freq</th>\n",
       "      <td>3</td>\n",
       "    </tr>\n",
       "  </tbody>\n",
       "</table>\n",
       "</div>"
      ],
      "text/plain": [
       "                 login_time\n",
       "count                 93142\n",
       "unique                92265\n",
       "top     1970-03-17 01:01:39\n",
       "freq                      3"
      ]
     },
     "execution_count": 9,
     "metadata": {},
     "output_type": "execute_result"
    }
   ],
   "source": [
    "df2.describe()"
   ]
  },
  {
   "cell_type": "code",
   "execution_count": 10,
   "metadata": {
    "scrolled": true
   },
   "outputs": [
    {
     "data": {
      "text/html": [
       "<div>\n",
       "<style scoped>\n",
       "    .dataframe tbody tr th:only-of-type {\n",
       "        vertical-align: middle;\n",
       "    }\n",
       "\n",
       "    .dataframe tbody tr th {\n",
       "        vertical-align: top;\n",
       "    }\n",
       "\n",
       "    .dataframe thead th {\n",
       "        text-align: right;\n",
       "    }\n",
       "</style>\n",
       "<table border=\"1\" class=\"dataframe\">\n",
       "  <thead>\n",
       "    <tr style=\"text-align: right;\">\n",
       "      <th></th>\n",
       "      <th>login_time</th>\n",
       "    </tr>\n",
       "  </thead>\n",
       "  <tbody>\n",
       "    <tr>\n",
       "      <th>0</th>\n",
       "      <td>1970-01-01 20:13:18</td>\n",
       "    </tr>\n",
       "    <tr>\n",
       "      <th>1</th>\n",
       "      <td>1970-01-01 20:16:10</td>\n",
       "    </tr>\n",
       "    <tr>\n",
       "      <th>2</th>\n",
       "      <td>1970-01-01 20:16:37</td>\n",
       "    </tr>\n",
       "    <tr>\n",
       "      <th>3</th>\n",
       "      <td>1970-01-01 20:16:36</td>\n",
       "    </tr>\n",
       "    <tr>\n",
       "      <th>4</th>\n",
       "      <td>1970-01-01 20:26:21</td>\n",
       "    </tr>\n",
       "  </tbody>\n",
       "</table>\n",
       "</div>"
      ],
      "text/plain": [
       "            login_time\n",
       "0  1970-01-01 20:13:18\n",
       "1  1970-01-01 20:16:10\n",
       "2  1970-01-01 20:16:37\n",
       "3  1970-01-01 20:16:36\n",
       "4  1970-01-01 20:26:21"
      ]
     },
     "execution_count": 10,
     "metadata": {},
     "output_type": "execute_result"
    }
   ],
   "source": [
    "df2.head()"
   ]
  },
  {
   "cell_type": "code",
   "execution_count": 14,
   "metadata": {},
   "outputs": [
    {
     "data": {
      "text/plain": [
       "<matplotlib.axes._subplots.AxesSubplot at 0x26f68cdf3c8>"
      ]
     },
     "execution_count": 14,
     "metadata": {},
     "output_type": "execute_result"
    },
    {
     "data": {
      "image/png": "[encoded data removed]",
      "text/plain": [
       "<Figure size 432x288 with 1 Axes>"
      ]
     },
     "metadata": {
      "needs_background": "light"
     },
     "output_type": "display_data"
    }
   ],
   "source": [
    "df1.avg_dist.plot()"
   ]
  },
  {
   "cell_type": "markdown",
   "metadata": {},
   "source": [
    "## Data Cleaning and Manipulation"
   ]
  },
  {
   "cell_type": "code",
   "execution_count": 15,
   "metadata": {},
   "outputs": [
    {
     "data": {
      "text/plain": [
       "<matplotlib.axes._subplots.AxesSubplot at 0x26f69cd6160>"
      ]
     },
     "execution_count": 15,
     "metadata": {},
     "output_type": "execute_result"
    },
    {
     "data": {
      "image/png": "[encoded data removed]",
      "text/plain": [
       "<Figure size 432x288 with 1 Axes>"
      ]
     },
     "metadata": {
      "needs_background": "light"
     },
     "output_type": "display_data"
    }
   ],
   "source": [
    "import seaborn as sns\n",
    "sns.scatterplot(data=df1.avg_dist>90)"
   ]
  },
  {
   "cell_type": "code",
   "execution_count": 16,
   "metadata": {},
   "outputs": [
    {
     "data": {
      "text/plain": [
       "<matplotlib.axes._subplots.AxesSubplot at 0x26f6b3bd5f8>"
      ]
     },
     "execution_count": 16,
     "metadata": {},
     "output_type": "execute_result"
    },
    {
     "data": {
      "image/png": "[encoded data removed]",
      "text/plain": [
       "<Figure size 432x288 with 1 Axes>"
      ]
     },
     "metadata": {
      "needs_background": "light"
     },
     "output_type": "display_data"
    }
   ],
   "source": [
    "import seaborn as sns\n",
    "sns.scatterplot(data=df1.trips_in_first_30_days)"
   ]
  },
  {
   "cell_type": "code",
   "execution_count": 17,
   "metadata": {},
   "outputs": [],
   "source": [
    "df1=df1[df1.avg_dist<60]"
   ]
  },
  {
   "cell_type": "code",
   "execution_count": 18,
   "metadata": {},
   "outputs": [],
   "source": [
    "df1=df1[df1.trips_in_first_30_days<60]"
   ]
  },
  {
   "cell_type": "code",
   "execution_count": 19,
   "metadata": {},
   "outputs": [
    {
     "data": {
      "text/plain": [
       "<matplotlib.axes._subplots.AxesSubplot at 0x26f69d075c0>"
      ]
     },
     "execution_count": 19,
     "metadata": {},
     "output_type": "execute_result"
    },
    {
     "data": {
      "image/png": "[encoded data removed]",
      "text/plain": [
       "<Figure size 432x288 with 1 Axes>"
      ]
     },
     "metadata": {
      "needs_background": "light"
     },
     "output_type": "display_data"
    }
   ],
   "source": [
    "sns.scatterplot(data=df1.avg_surge)"
   ]
  },
  {
   "cell_type": "code",
   "execution_count": 20,
   "metadata": {},
   "outputs": [],
   "source": [
    "df1=df1[df1.avg_surge<5]"
   ]
  },
  {
   "cell_type": "code",
   "execution_count": 21,
   "metadata": {},
   "outputs": [
    {
     "data": {
      "text/plain": [
       "<matplotlib.axes._subplots.AxesSubplot at 0x26f69d62128>"
      ]
     },
     "execution_count": 21,
     "metadata": {},
     "output_type": "execute_result"
    },
    {
     "data": {
      "image/png": "[encoded data removed]",
      "text/plain": [
       "<Figure size 432x288 with 1 Axes>"
      ]
     },
     "metadata": {
      "needs_background": "light"
     },
     "output_type": "display_data"
    }
   ],
   "source": [
    "sns.scatterplot(data=df1.surge_pct)"
   ]
  },
  {
   "cell_type": "code",
   "execution_count": 22,
   "metadata": {},
   "outputs": [],
   "source": [
    "df1=df1[df1.surge_pct<90]"
   ]
  },
  {
   "cell_type": "code",
   "execution_count": 23,
   "metadata": {},
   "outputs": [],
   "source": [
    "df1=df1[df1.phone!='unknown']"
   ]
  },
  {
   "cell_type": "code",
   "execution_count": 24,
   "metadata": {},
   "outputs": [],
   "source": [
    "df2.login_time=pd.to_datetime(df2.login_time)"
   ]
  },
  {
   "cell_type": "code",
   "execution_count": 25,
   "metadata": {},
   "outputs": [],
   "source": [
    "time=df2.iloc[0]"
   ]
  },
  {
   "cell_type": "code",
   "execution_count": 26,
   "metadata": {},
   "outputs": [
    {
     "data": {
      "text/plain": [
       "login_time   1970-01-01 20:13:18\n",
       "Name: 0, dtype: datetime64[ns]"
      ]
     },
     "execution_count": 26,
     "metadata": {},
     "output_type": "execute_result"
    }
   ],
   "source": [
    "time"
   ]
  },
  {
   "cell_type": "code",
   "execution_count": 27,
   "metadata": {},
   "outputs": [],
   "source": [
    "df1.last_trip_date=pd.to_datetime(df1.last_trip_date)\n",
    "df1.signup_date=pd.to_datetime(df1.signup_date)"
   ]
  },
  {
   "cell_type": "code",
   "execution_count": 28,
   "metadata": {},
   "outputs": [],
   "source": [
    "def  daysElapsed (row,date=(2012,1,1)):\n",
    "    \n",
    "    return (row.time_stamp-pd.datetime(date[0],date[1],date[2])).days\n",
    "\n",
    "\n",
    "def  weeksElapsed (row,date=(2012,1,1)):\n",
    "    \n",
    "    weeks=0\n",
    "    \n",
    "    days = daysElapsed (row)\n",
    "    \n",
    "    if days % 7 == 0:\n",
    "        \n",
    "        weeks = days // 7\n",
    "    else:\n",
    "        \n",
    "        weeks = (days // 7) + 1\n",
    "    \n",
    "    return weeks"
   ]
  },
  {
   "cell_type": "code",
   "execution_count": 29,
   "metadata": {},
   "outputs": [],
   "source": [
    "def  hour (row):\n",
    "    \n",
    "    return (row.login_time).hour\n",
    "\n",
    "hour=df2.apply (lambda row: hour(row),axis=1) \n"
   ]
  },
  {
   "cell_type": "code",
   "execution_count": 30,
   "metadata": {},
   "outputs": [],
   "source": [
    "def  minutes (row):\n",
    "    \n",
    "    q_hours=0\n",
    "    \n",
    "    minutes = (row.login_time).minute\n",
    "    \n",
    "    if minutes % 15 == 0:\n",
    "        \n",
    "        q_hours = minutes // 15\n",
    "    else:\n",
    "        \n",
    "        q_hours = (minutes // 15) + 1\n",
    "    \n",
    "    return q_hours\n",
    "\n",
    "q_hours=df2.apply (lambda row: minutes(row),axis=1) "
   ]
  },
  {
   "cell_type": "code",
   "execution_count": 31,
   "metadata": {},
   "outputs": [],
   "source": [
    "def  last_trip_month (row):\n",
    "    \n",
    "    return (row.last_trip_date).month\n",
    "\n",
    "last_trip_month=df1.apply (lambda row: last_trip_month(row),axis=1) "
   ]
  },
  {
   "cell_type": "code",
   "execution_count": 32,
   "metadata": {},
   "outputs": [
    {
     "data": {
      "text/plain": [
       "7"
      ]
     },
     "execution_count": 32,
     "metadata": {},
     "output_type": "execute_result"
    }
   ],
   "source": [
    "last_trip_month.max()"
   ]
  },
  {
   "cell_type": "code",
   "execution_count": 33,
   "metadata": {},
   "outputs": [],
   "source": [
    "def  signup_month (row):\n",
    "    \n",
    "    return (row.signup_date).month\n",
    "\n",
    "signup_month=df1.apply (lambda row: signup_month(row),axis=1) "
   ]
  },
  {
   "cell_type": "code",
   "execution_count": null,
   "metadata": {},
   "outputs": [],
   "source": []
  },
  {
   "cell_type": "code",
   "execution_count": null,
   "metadata": {},
   "outputs": [],
   "source": []
  },
  {
   "cell_type": "code",
   "execution_count": 34,
   "metadata": {
    "scrolled": true
   },
   "outputs": [
    {
     "data": {
      "text/html": [
       "<div>\n",
       "<style scoped>\n",
       "    .dataframe tbody tr th:only-of-type {\n",
       "        vertical-align: middle;\n",
       "    }\n",
       "\n",
       "    .dataframe tbody tr th {\n",
       "        vertical-align: top;\n",
       "    }\n",
       "\n",
       "    .dataframe thead th {\n",
       "        text-align: right;\n",
       "    }\n",
       "</style>\n",
       "<table border=\"1\" class=\"dataframe\">\n",
       "  <thead>\n",
       "    <tr style=\"text-align: right;\">\n",
       "      <th></th>\n",
       "      <th>avg_dist</th>\n",
       "      <th>avg_rating_by_driver</th>\n",
       "      <th>avg_rating_of_driver</th>\n",
       "      <th>avg_surge</th>\n",
       "      <th>city</th>\n",
       "      <th>last_trip_date</th>\n",
       "      <th>phone</th>\n",
       "      <th>signup_date</th>\n",
       "      <th>surge_pct</th>\n",
       "      <th>trips_in_first_30_days</th>\n",
       "      <th>ultimate_black_user</th>\n",
       "      <th>weekday_pct</th>\n",
       "    </tr>\n",
       "  </thead>\n",
       "  <tbody>\n",
       "    <tr>\n",
       "      <th>0</th>\n",
       "      <td>3.67</td>\n",
       "      <td>5.0</td>\n",
       "      <td>4.7</td>\n",
       "      <td>1.10</td>\n",
       "      <td>King's Landing</td>\n",
       "      <td>2014-06-17</td>\n",
       "      <td>iPhone</td>\n",
       "      <td>2014-01-25</td>\n",
       "      <td>15.4</td>\n",
       "      <td>4</td>\n",
       "      <td>True</td>\n",
       "      <td>46.2</td>\n",
       "    </tr>\n",
       "    <tr>\n",
       "      <th>1</th>\n",
       "      <td>8.26</td>\n",
       "      <td>5.0</td>\n",
       "      <td>5.0</td>\n",
       "      <td>1.00</td>\n",
       "      <td>Astapor</td>\n",
       "      <td>2014-05-05</td>\n",
       "      <td>Android</td>\n",
       "      <td>2014-01-29</td>\n",
       "      <td>0.0</td>\n",
       "      <td>0</td>\n",
       "      <td>False</td>\n",
       "      <td>50.0</td>\n",
       "    </tr>\n",
       "    <tr>\n",
       "      <th>2</th>\n",
       "      <td>0.77</td>\n",
       "      <td>5.0</td>\n",
       "      <td>4.3</td>\n",
       "      <td>1.00</td>\n",
       "      <td>Astapor</td>\n",
       "      <td>2014-01-07</td>\n",
       "      <td>iPhone</td>\n",
       "      <td>2014-01-06</td>\n",
       "      <td>0.0</td>\n",
       "      <td>3</td>\n",
       "      <td>False</td>\n",
       "      <td>100.0</td>\n",
       "    </tr>\n",
       "    <tr>\n",
       "      <th>3</th>\n",
       "      <td>2.36</td>\n",
       "      <td>4.9</td>\n",
       "      <td>4.6</td>\n",
       "      <td>1.14</td>\n",
       "      <td>King's Landing</td>\n",
       "      <td>2014-06-29</td>\n",
       "      <td>iPhone</td>\n",
       "      <td>2014-01-10</td>\n",
       "      <td>20.0</td>\n",
       "      <td>9</td>\n",
       "      <td>True</td>\n",
       "      <td>80.0</td>\n",
       "    </tr>\n",
       "    <tr>\n",
       "      <th>4</th>\n",
       "      <td>3.13</td>\n",
       "      <td>4.9</td>\n",
       "      <td>4.4</td>\n",
       "      <td>1.19</td>\n",
       "      <td>Winterfell</td>\n",
       "      <td>2014-03-15</td>\n",
       "      <td>Android</td>\n",
       "      <td>2014-01-27</td>\n",
       "      <td>11.8</td>\n",
       "      <td>14</td>\n",
       "      <td>False</td>\n",
       "      <td>82.4</td>\n",
       "    </tr>\n",
       "  </tbody>\n",
       "</table>\n",
       "</div>"
      ],
      "text/plain": [
       "   avg_dist  avg_rating_by_driver  avg_rating_of_driver  avg_surge  \\\n",
       "0      3.67                   5.0                   4.7       1.10   \n",
       "1      8.26                   5.0                   5.0       1.00   \n",
       "2      0.77                   5.0                   4.3       1.00   \n",
       "3      2.36                   4.9                   4.6       1.14   \n",
       "4      3.13                   4.9                   4.4       1.19   \n",
       "\n",
       "             city last_trip_date    phone signup_date  surge_pct  \\\n",
       "0  King's Landing     2014-06-17   iPhone  2014-01-25       15.4   \n",
       "1         Astapor     2014-05-05  Android  2014-01-29        0.0   \n",
       "2         Astapor     2014-01-07   iPhone  2014-01-06        0.0   \n",
       "3  King's Landing     2014-06-29   iPhone  2014-01-10       20.0   \n",
       "4      Winterfell     2014-03-15  Android  2014-01-27       11.8   \n",
       "\n",
       "   trips_in_first_30_days  ultimate_black_user  weekday_pct  \n",
       "0                       4                 True         46.2  \n",
       "1                       0                False         50.0  \n",
       "2                       3                False        100.0  \n",
       "3                       9                 True         80.0  \n",
       "4                      14                False         82.4  "
      ]
     },
     "execution_count": 34,
     "metadata": {},
     "output_type": "execute_result"
    }
   ],
   "source": [
    "df1.head()"
   ]
  },
  {
   "cell_type": "code",
   "execution_count": 35,
   "metadata": {},
   "outputs": [],
   "source": [
    "df2['hours']=hour\n",
    "df2['q_hours']=q_hours"
   ]
  },
  {
   "cell_type": "code",
   "execution_count": 36,
   "metadata": {},
   "outputs": [
    {
     "data": {
      "text/plain": [
       "<matplotlib.axes._subplots.AxesSubplot at 0x26f70e54b38>"
      ]
     },
     "execution_count": 36,
     "metadata": {},
     "output_type": "execute_result"
    },
    {
     "data": {
      "image/png": "[encoded data removed]",
      "text/plain": [
       "<Figure size 1656x720 with 1 Axes>"
      ]
     },
     "metadata": {
      "needs_background": "light"
     },
     "output_type": "display_data"
    }
   ],
   "source": [
    "import matplotlib.pyplot as plt\n",
    "df2.groupby(['hours','q_hours']).count().plot(kind='bar',rot=70,figsize=(23,10))"
   ]
  },
  {
   "cell_type": "code",
   "execution_count": 37,
   "metadata": {},
   "outputs": [
    {
     "data": {
      "text/plain": [
       "<matplotlib.axes._subplots.AxesSubplot at 0x26f70e688d0>"
      ]
     },
     "execution_count": 37,
     "metadata": {},
     "output_type": "execute_result"
    },
    {
     "data": {
      "image/png": "[encoded data removed]",
      "text/plain": [
       "<Figure size 1656x720 with 1 Axes>"
      ]
     },
     "metadata": {
      "needs_background": "light"
     },
     "output_type": "display_data"
    }
   ],
   "source": [
    "df2.groupby(['hours','q_hours']).count().plot(rot=70,figsize=(23,10))"
   ]
  },
  {
   "cell_type": "markdown",
   "metadata": {},
   "source": [
    "## Data problems:\n",
    "It is quite apparent that there is a problem with data. Every hour, first quarter of the data is looking suspicous. Riders distribution of login times (as a parameter of hour,minute) should have been evenly distributed. While an assertion about busy hours (rush hours, friday night etc) is acceptable, the low points at each first quarter of the hour is inexplicable."
   ]
  },
  {
   "cell_type": "markdown",
   "metadata": {},
   "source": [
    "## Feature Engineering"
   ]
  },
  {
   "cell_type": "code",
   "execution_count": 38,
   "metadata": {},
   "outputs": [
    {
     "data": {
      "text/plain": [
       "array([\"King's Landing\", 'Astapor', 'Winterfell'], dtype=object)"
      ]
     },
     "execution_count": 38,
     "metadata": {},
     "output_type": "execute_result"
    }
   ],
   "source": [
    "df1.city.unique()"
   ]
  },
  {
   "cell_type": "code",
   "execution_count": 39,
   "metadata": {
    "scrolled": true
   },
   "outputs": [
    {
     "data": {
      "text/html": [
       "<div>\n",
       "<style scoped>\n",
       "    .dataframe tbody tr th:only-of-type {\n",
       "        vertical-align: middle;\n",
       "    }\n",
       "\n",
       "    .dataframe tbody tr th {\n",
       "        vertical-align: top;\n",
       "    }\n",
       "\n",
       "    .dataframe thead th {\n",
       "        text-align: right;\n",
       "    }\n",
       "</style>\n",
       "<table border=\"1\" class=\"dataframe\">\n",
       "  <thead>\n",
       "    <tr style=\"text-align: right;\">\n",
       "      <th></th>\n",
       "      <th>avg_dist</th>\n",
       "      <th>avg_rating_by_driver</th>\n",
       "      <th>avg_rating_of_driver</th>\n",
       "      <th>avg_surge</th>\n",
       "      <th>city</th>\n",
       "      <th>last_trip_date</th>\n",
       "      <th>phone</th>\n",
       "      <th>signup_date</th>\n",
       "      <th>surge_pct</th>\n",
       "      <th>trips_in_first_30_days</th>\n",
       "      <th>ultimate_black_user</th>\n",
       "      <th>weekday_pct</th>\n",
       "    </tr>\n",
       "  </thead>\n",
       "  <tbody>\n",
       "    <tr>\n",
       "      <th>0</th>\n",
       "      <td>3.67</td>\n",
       "      <td>5.0</td>\n",
       "      <td>4.7</td>\n",
       "      <td>1.10</td>\n",
       "      <td>King's Landing</td>\n",
       "      <td>2014-06-17</td>\n",
       "      <td>iPhone</td>\n",
       "      <td>2014-01-25</td>\n",
       "      <td>15.4</td>\n",
       "      <td>4</td>\n",
       "      <td>True</td>\n",
       "      <td>46.2</td>\n",
       "    </tr>\n",
       "    <tr>\n",
       "      <th>1</th>\n",
       "      <td>8.26</td>\n",
       "      <td>5.0</td>\n",
       "      <td>5.0</td>\n",
       "      <td>1.00</td>\n",
       "      <td>Astapor</td>\n",
       "      <td>2014-05-05</td>\n",
       "      <td>Android</td>\n",
       "      <td>2014-01-29</td>\n",
       "      <td>0.0</td>\n",
       "      <td>0</td>\n",
       "      <td>False</td>\n",
       "      <td>50.0</td>\n",
       "    </tr>\n",
       "    <tr>\n",
       "      <th>2</th>\n",
       "      <td>0.77</td>\n",
       "      <td>5.0</td>\n",
       "      <td>4.3</td>\n",
       "      <td>1.00</td>\n",
       "      <td>Astapor</td>\n",
       "      <td>2014-01-07</td>\n",
       "      <td>iPhone</td>\n",
       "      <td>2014-01-06</td>\n",
       "      <td>0.0</td>\n",
       "      <td>3</td>\n",
       "      <td>False</td>\n",
       "      <td>100.0</td>\n",
       "    </tr>\n",
       "    <tr>\n",
       "      <th>3</th>\n",
       "      <td>2.36</td>\n",
       "      <td>4.9</td>\n",
       "      <td>4.6</td>\n",
       "      <td>1.14</td>\n",
       "      <td>King's Landing</td>\n",
       "      <td>2014-06-29</td>\n",
       "      <td>iPhone</td>\n",
       "      <td>2014-01-10</td>\n",
       "      <td>20.0</td>\n",
       "      <td>9</td>\n",
       "      <td>True</td>\n",
       "      <td>80.0</td>\n",
       "    </tr>\n",
       "    <tr>\n",
       "      <th>4</th>\n",
       "      <td>3.13</td>\n",
       "      <td>4.9</td>\n",
       "      <td>4.4</td>\n",
       "      <td>1.19</td>\n",
       "      <td>Winterfell</td>\n",
       "      <td>2014-03-15</td>\n",
       "      <td>Android</td>\n",
       "      <td>2014-01-27</td>\n",
       "      <td>11.8</td>\n",
       "      <td>14</td>\n",
       "      <td>False</td>\n",
       "      <td>82.4</td>\n",
       "    </tr>\n",
       "  </tbody>\n",
       "</table>\n",
       "</div>"
      ],
      "text/plain": [
       "   avg_dist  avg_rating_by_driver  avg_rating_of_driver  avg_surge  \\\n",
       "0      3.67                   5.0                   4.7       1.10   \n",
       "1      8.26                   5.0                   5.0       1.00   \n",
       "2      0.77                   5.0                   4.3       1.00   \n",
       "3      2.36                   4.9                   4.6       1.14   \n",
       "4      3.13                   4.9                   4.4       1.19   \n",
       "\n",
       "             city last_trip_date    phone signup_date  surge_pct  \\\n",
       "0  King's Landing     2014-06-17   iPhone  2014-01-25       15.4   \n",
       "1         Astapor     2014-05-05  Android  2014-01-29        0.0   \n",
       "2         Astapor     2014-01-07   iPhone  2014-01-06        0.0   \n",
       "3  King's Landing     2014-06-29   iPhone  2014-01-10       20.0   \n",
       "4      Winterfell     2014-03-15  Android  2014-01-27       11.8   \n",
       "\n",
       "   trips_in_first_30_days  ultimate_black_user  weekday_pct  \n",
       "0                       4                 True         46.2  \n",
       "1                       0                False         50.0  \n",
       "2                       3                False        100.0  \n",
       "3                       9                 True         80.0  \n",
       "4                      14                False         82.4  "
      ]
     },
     "execution_count": 39,
     "metadata": {},
     "output_type": "execute_result"
    }
   ],
   "source": [
    "df1.head()"
   ]
  },
  {
   "cell_type": "code",
   "execution_count": 40,
   "metadata": {},
   "outputs": [
    {
     "data": {
      "text/plain": [
       "Timestamp('2014-07-01 00:00:00')"
      ]
     },
     "execution_count": 40,
     "metadata": {},
     "output_type": "execute_result"
    }
   ],
   "source": [
    "date_crawled=df1.last_trip_date.max()\n",
    "date_crawled"
   ]
  },
  {
   "cell_type": "code",
   "execution_count": 41,
   "metadata": {
    "scrolled": false
   },
   "outputs": [],
   "source": [
    "import datetime\n",
    "check_days=date_crawled-datetime.timedelta(days=30)"
   ]
  },
  {
   "cell_type": "code",
   "execution_count": 42,
   "metadata": {},
   "outputs": [
    {
     "data": {
      "text/plain": [
       "avg_dist                  18097\n",
       "avg_rating_by_driver      18071\n",
       "avg_rating_of_driver      16630\n",
       "avg_surge                 18097\n",
       "city                      18097\n",
       "last_trip_date            18097\n",
       "phone                     17968\n",
       "signup_date               18097\n",
       "surge_pct                 18097\n",
       "trips_in_first_30_days    18097\n",
       "ultimate_black_user       18097\n",
       "weekday_pct               18097\n",
       "dtype: int64"
      ]
     },
     "execution_count": 42,
     "metadata": {},
     "output_type": "execute_result"
    }
   ],
   "source": [
    "df1[df1.last_trip_date>check_days].count()"
   ]
  },
  {
   "cell_type": "code",
   "execution_count": 43,
   "metadata": {},
   "outputs": [],
   "source": [
    "def  daysElapsed (row,date=date_crawled):\n",
    "    \n",
    "    return (date_crawled - row.signup_date).days\n",
    "\n",
    "days_till_signup=df1.apply (lambda row: daysElapsed(row),axis=1) "
   ]
  },
  {
   "cell_type": "code",
   "execution_count": 44,
   "metadata": {},
   "outputs": [],
   "source": [
    "def  daysElapsed_last_ride (row,date=date_crawled):\n",
    "    \n",
    "    return (date_crawled - row.last_trip_date).days\n",
    "\n",
    "days_till_last_ride=df1.apply (lambda row: daysElapsed_last_ride(row),axis=1) "
   ]
  },
  {
   "cell_type": "code",
   "execution_count": 45,
   "metadata": {},
   "outputs": [],
   "source": [
    "def  days_between_dates (row):\n",
    "    \n",
    "    return (row.last_trip_date - row.signup_date).days\n",
    "\n",
    "days_between_dates=df1.apply (lambda row: days_between_dates(row),axis=1) "
   ]
  },
  {
   "cell_type": "code",
   "execution_count": 46,
   "metadata": {
    "scrolled": true
   },
   "outputs": [
    {
     "data": {
      "text/plain": [
       "0    143\n",
       "1     96\n",
       "2      1\n",
       "3    170\n",
       "4     47\n",
       "5    148\n",
       "6      1\n",
       "7      1\n",
       "8     11\n",
       "9      2\n",
       "dtype: int64"
      ]
     },
     "execution_count": 46,
     "metadata": {},
     "output_type": "execute_result"
    }
   ],
   "source": [
    "days_between_dates[:10]"
   ]
  },
  {
   "cell_type": "code",
   "execution_count": 47,
   "metadata": {},
   "outputs": [],
   "source": [
    "# pandas takes string and interprets it as datetime object...\n",
    "#is_retained=(df1.last_trip_date>'2014-06-01').astype(int)\n",
    "\n",
    "is_retained=(df1.last_trip_date>check_days).astype(int)\n"
   ]
  },
  {
   "cell_type": "markdown",
   "metadata": {},
   "source": [
    "## Retain Rate"
   ]
  },
  {
   "cell_type": "code",
   "execution_count": 114,
   "metadata": {},
   "outputs": [
    {
     "name": "stdout",
     "output_type": "stream",
     "text": [
      "Retain rate is 37.0 %\n"
     ]
    }
   ],
   "source": [
    "retainRate=np.round(df1.is_retained[df1.is_retained==1].count()/len(df1),2)\n",
    "print ('Retain rate is {} %'.format(retainRate*100))"
   ]
  },
  {
   "cell_type": "code",
   "execution_count": 48,
   "metadata": {},
   "outputs": [],
   "source": [
    "df1['days_till_signup']=days_till_signup\n",
    "df1['days_till_last_ride']=days_till_last_ride"
   ]
  },
  {
   "cell_type": "code",
   "execution_count": 49,
   "metadata": {},
   "outputs": [],
   "source": [
    "df1['is_retained']=is_retained"
   ]
  },
  {
   "cell_type": "code",
   "execution_count": 50,
   "metadata": {},
   "outputs": [],
   "source": [
    "df1['days_between_dates']=days_between_dates"
   ]
  },
  {
   "cell_type": "code",
   "execution_count": 51,
   "metadata": {
    "scrolled": true
   },
   "outputs": [],
   "source": [
    "df1.avg_rating_of_driver.fillna(value=round(df1.avg_rating_of_driver.mean(),2),inplace=True)"
   ]
  },
  {
   "cell_type": "code",
   "execution_count": 52,
   "metadata": {},
   "outputs": [],
   "source": [
    "df1.avg_rating_by_driver.fillna(value=round(df1.avg_rating_by_driver.mean(),2),inplace=True)"
   ]
  },
  {
   "cell_type": "code",
   "execution_count": 53,
   "metadata": {},
   "outputs": [],
   "source": [
    "df1.phone.fillna(value='unknown',inplace=True)"
   ]
  },
  {
   "cell_type": "code",
   "execution_count": 54,
   "metadata": {},
   "outputs": [
    {
     "data": {
      "text/html": [
       "<div>\n",
       "<style scoped>\n",
       "    .dataframe tbody tr th:only-of-type {\n",
       "        vertical-align: middle;\n",
       "    }\n",
       "\n",
       "    .dataframe tbody tr th {\n",
       "        vertical-align: top;\n",
       "    }\n",
       "\n",
       "    .dataframe thead th {\n",
       "        text-align: right;\n",
       "    }\n",
       "</style>\n",
       "<table border=\"1\" class=\"dataframe\">\n",
       "  <thead>\n",
       "    <tr style=\"text-align: right;\">\n",
       "      <th></th>\n",
       "      <th>avg_dist</th>\n",
       "      <th>avg_rating_by_driver</th>\n",
       "      <th>avg_rating_of_driver</th>\n",
       "      <th>avg_surge</th>\n",
       "      <th>city</th>\n",
       "      <th>last_trip_date</th>\n",
       "      <th>phone</th>\n",
       "      <th>signup_date</th>\n",
       "      <th>surge_pct</th>\n",
       "      <th>trips_in_first_30_days</th>\n",
       "      <th>ultimate_black_user</th>\n",
       "      <th>weekday_pct</th>\n",
       "      <th>days_till_signup</th>\n",
       "      <th>days_till_last_ride</th>\n",
       "      <th>is_retained</th>\n",
       "      <th>days_between_dates</th>\n",
       "    </tr>\n",
       "  </thead>\n",
       "  <tbody>\n",
       "    <tr>\n",
       "      <th>0</th>\n",
       "      <td>3.67</td>\n",
       "      <td>5.0</td>\n",
       "      <td>4.7</td>\n",
       "      <td>1.10</td>\n",
       "      <td>King's Landing</td>\n",
       "      <td>2014-06-17</td>\n",
       "      <td>iPhone</td>\n",
       "      <td>2014-01-25</td>\n",
       "      <td>15.4</td>\n",
       "      <td>4</td>\n",
       "      <td>True</td>\n",
       "      <td>46.2</td>\n",
       "      <td>157</td>\n",
       "      <td>14</td>\n",
       "      <td>1</td>\n",
       "      <td>143</td>\n",
       "    </tr>\n",
       "    <tr>\n",
       "      <th>1</th>\n",
       "      <td>8.26</td>\n",
       "      <td>5.0</td>\n",
       "      <td>5.0</td>\n",
       "      <td>1.00</td>\n",
       "      <td>Astapor</td>\n",
       "      <td>2014-05-05</td>\n",
       "      <td>Android</td>\n",
       "      <td>2014-01-29</td>\n",
       "      <td>0.0</td>\n",
       "      <td>0</td>\n",
       "      <td>False</td>\n",
       "      <td>50.0</td>\n",
       "      <td>153</td>\n",
       "      <td>57</td>\n",
       "      <td>0</td>\n",
       "      <td>96</td>\n",
       "    </tr>\n",
       "    <tr>\n",
       "      <th>2</th>\n",
       "      <td>0.77</td>\n",
       "      <td>5.0</td>\n",
       "      <td>4.3</td>\n",
       "      <td>1.00</td>\n",
       "      <td>Astapor</td>\n",
       "      <td>2014-01-07</td>\n",
       "      <td>iPhone</td>\n",
       "      <td>2014-01-06</td>\n",
       "      <td>0.0</td>\n",
       "      <td>3</td>\n",
       "      <td>False</td>\n",
       "      <td>100.0</td>\n",
       "      <td>176</td>\n",
       "      <td>175</td>\n",
       "      <td>0</td>\n",
       "      <td>1</td>\n",
       "    </tr>\n",
       "    <tr>\n",
       "      <th>3</th>\n",
       "      <td>2.36</td>\n",
       "      <td>4.9</td>\n",
       "      <td>4.6</td>\n",
       "      <td>1.14</td>\n",
       "      <td>King's Landing</td>\n",
       "      <td>2014-06-29</td>\n",
       "      <td>iPhone</td>\n",
       "      <td>2014-01-10</td>\n",
       "      <td>20.0</td>\n",
       "      <td>9</td>\n",
       "      <td>True</td>\n",
       "      <td>80.0</td>\n",
       "      <td>172</td>\n",
       "      <td>2</td>\n",
       "      <td>1</td>\n",
       "      <td>170</td>\n",
       "    </tr>\n",
       "    <tr>\n",
       "      <th>4</th>\n",
       "      <td>3.13</td>\n",
       "      <td>4.9</td>\n",
       "      <td>4.4</td>\n",
       "      <td>1.19</td>\n",
       "      <td>Winterfell</td>\n",
       "      <td>2014-03-15</td>\n",
       "      <td>Android</td>\n",
       "      <td>2014-01-27</td>\n",
       "      <td>11.8</td>\n",
       "      <td>14</td>\n",
       "      <td>False</td>\n",
       "      <td>82.4</td>\n",
       "      <td>155</td>\n",
       "      <td>108</td>\n",
       "      <td>0</td>\n",
       "      <td>47</td>\n",
       "    </tr>\n",
       "  </tbody>\n",
       "</table>\n",
       "</div>"
      ],
      "text/plain": [
       "   avg_dist  avg_rating_by_driver  avg_rating_of_driver  avg_surge  \\\n",
       "0      3.67                   5.0                   4.7       1.10   \n",
       "1      8.26                   5.0                   5.0       1.00   \n",
       "2      0.77                   5.0                   4.3       1.00   \n",
       "3      2.36                   4.9                   4.6       1.14   \n",
       "4      3.13                   4.9                   4.4       1.19   \n",
       "\n",
       "             city last_trip_date    phone signup_date  surge_pct  \\\n",
       "0  King's Landing     2014-06-17   iPhone  2014-01-25       15.4   \n",
       "1         Astapor     2014-05-05  Android  2014-01-29        0.0   \n",
       "2         Astapor     2014-01-07   iPhone  2014-01-06        0.0   \n",
       "3  King's Landing     2014-06-29   iPhone  2014-01-10       20.0   \n",
       "4      Winterfell     2014-03-15  Android  2014-01-27       11.8   \n",
       "\n",
       "   trips_in_first_30_days  ultimate_black_user  weekday_pct  days_till_signup  \\\n",
       "0                       4                 True         46.2               157   \n",
       "1                       0                False         50.0               153   \n",
       "2                       3                False        100.0               176   \n",
       "3                       9                 True         80.0               172   \n",
       "4                      14                False         82.4               155   \n",
       "\n",
       "   days_till_last_ride  is_retained  days_between_dates  \n",
       "0                   14            1                 143  \n",
       "1                   57            0                  96  \n",
       "2                  175            0                   1  \n",
       "3                    2            1                 170  \n",
       "4                  108            0                  47  "
      ]
     },
     "execution_count": 54,
     "metadata": {},
     "output_type": "execute_result"
    }
   ],
   "source": [
    "df1.head()"
   ]
  },
  {
   "cell_type": "code",
   "execution_count": 55,
   "metadata": {},
   "outputs": [
    {
     "data": {
      "text/plain": [
       "181"
      ]
     },
     "execution_count": 55,
     "metadata": {},
     "output_type": "execute_result"
    }
   ],
   "source": [
    "df1.days_till_signup.max()"
   ]
  },
  {
   "cell_type": "code",
   "execution_count": 56,
   "metadata": {},
   "outputs": [
    {
     "name": "stdout",
     "output_type": "stream",
     "text": [
      "<class 'pandas.core.frame.DataFrame'>\n",
      "Int64Index: 48565 entries, 0 to 49999\n",
      "Data columns (total 16 columns):\n",
      "avg_dist                  48565 non-null float64\n",
      "avg_rating_by_driver      48565 non-null float64\n",
      "avg_rating_of_driver      48565 non-null float64\n",
      "avg_surge                 48565 non-null float64\n",
      "city                      48565 non-null object\n",
      "last_trip_date            48565 non-null datetime64[ns]\n",
      "phone                     48565 non-null object\n",
      "signup_date               48565 non-null datetime64[ns]\n",
      "surge_pct                 48565 non-null float64\n",
      "trips_in_first_30_days    48565 non-null int64\n",
      "ultimate_black_user       48565 non-null bool\n",
      "weekday_pct               48565 non-null float64\n",
      "days_till_signup          48565 non-null int64\n",
      "days_till_last_ride       48565 non-null int64\n",
      "is_retained               48565 non-null int32\n",
      "days_between_dates        48565 non-null int64\n",
      "dtypes: bool(1), datetime64[ns](2), float64(6), int32(1), int64(4), object(2)\n",
      "memory usage: 5.8+ MB\n"
     ]
    }
   ],
   "source": [
    "df1.info()"
   ]
  },
  {
   "cell_type": "code",
   "execution_count": 57,
   "metadata": {},
   "outputs": [],
   "source": [
    "dict_city_mean=(df1.groupby('city').trips_in_first_30_days.mean().round(2)).to_dict()\n",
    "df1['city_mean']=df1.city.map(dict_city_mean)\n",
    "\n",
    "dict_city_dist=(df1.groupby('city').avg_dist.mean().round(5)).to_dict()\n",
    "city_dist_by_cust=df1.city.map(dict_city_dist)*df1.avg_dist\n",
    "df1['city_dist_by_cust']=city_dist_by_cust\n",
    "\n",
    "\n",
    "def avg_rate_dummy(row):\n",
    "    \n",
    "    rider = 0\n",
    "    \n",
    "    driver = 0\n",
    "    \n",
    "    if row.avg_rating_by_driver == 5.0:\n",
    "    \n",
    "        rider = 1\n",
    "    \n",
    "    if row.avg_rating_of_driver == 5.0:\n",
    "        \n",
    "        driver = 1\n",
    "        \n",
    "    return rider,driver\n",
    "\n",
    "perfects=df1.apply (lambda row: avg_rate_dummy(row),axis=1) \n",
    "df1['perfect_riders']=[num[0] for num in perfects]\n",
    "df1['perfect_drivers']=[num[1] for num in perfects]\n",
    "df1['weekday_surge']=df1.weekday_pct*df1.surge_pct\n",
    "dict_avg_surge_city=(df1.groupby('city').avg_surge.mean().round(2)).to_dict()\n",
    "df1['avg_surge_cust_over_city']=df1.avg_surge/df1.city.map(dict_avg_surge_city)\n",
    "df1['signup_day']=df1.apply (lambda row:row.signup_date.weekday(),axis=1) "
   ]
  },
  {
   "cell_type": "code",
   "execution_count": 58,
   "metadata": {},
   "outputs": [],
   "source": [
    "features=list(df1.columns)\n",
    "#features.remove([['is_retained','last_trip_date','signup_date']])\n",
    "remove=['is_retained','last_trip_date','signup_date','days_till_last_ride','days_between_dates']#,'avg_rating_by_driver','avg_rating_of_driver'\n",
    "#features.remove('is_retained')\n"
   ]
  },
  {
   "cell_type": "code",
   "execution_count": 59,
   "metadata": {},
   "outputs": [],
   "source": [
    "features.remove(remove[0])\n",
    "features.remove(remove[1])\n",
    "features.remove(remove[2])\n",
    "features.remove(remove[3])\n",
    "features.remove(remove[4])"
   ]
  },
  {
   "cell_type": "code",
   "execution_count": 60,
   "metadata": {},
   "outputs": [
    {
     "data": {
      "text/plain": [
       "['avg_dist',\n",
       " 'avg_rating_by_driver',\n",
       " 'avg_rating_of_driver',\n",
       " 'avg_surge',\n",
       " 'city',\n",
       " 'phone',\n",
       " 'surge_pct',\n",
       " 'trips_in_first_30_days',\n",
       " 'ultimate_black_user',\n",
       " 'weekday_pct',\n",
       " 'days_till_signup',\n",
       " 'city_mean',\n",
       " 'city_dist_by_cust',\n",
       " 'perfect_riders',\n",
       " 'perfect_drivers',\n",
       " 'weekday_surge',\n",
       " 'avg_surge_cust_over_city',\n",
       " 'signup_day']"
      ]
     },
     "execution_count": 60,
     "metadata": {},
     "output_type": "execute_result"
    }
   ],
   "source": [
    "features"
   ]
  },
  {
   "cell_type": "code",
   "execution_count": 61,
   "metadata": {},
   "outputs": [],
   "source": [
    "labels=df1.is_retained\n"
   ]
  },
  {
   "cell_type": "code",
   "execution_count": 62,
   "metadata": {},
   "outputs": [
    {
     "data": {
      "text/plain": [
       "{0: 0.796983720624918, 1: 1.3417969829253467}"
      ]
     },
     "execution_count": 62,
     "metadata": {},
     "output_type": "execute_result"
    }
   ],
   "source": [
    "import numpy as np\n",
    "from sklearn.utils import class_weight\n",
    "\n",
    " \n",
    "class_weight1 =class_weight.compute_class_weight('balanced',np.unique(labels),labels)\n",
    "weight=pd.DataFrame(class_weight1)\n",
    "weight1=weight.to_dict()\n",
    "\n",
    "weight=weight1[0]\n",
    "weight"
   ]
  },
  {
   "cell_type": "code",
   "execution_count": 63,
   "metadata": {},
   "outputs": [],
   "source": [
    "from sklearn.model_selection import train_test_split\n",
    "\n",
    "\n",
    "X_train, X_test, y_train, y_test = train_test_split(df1[features], labels, test_size=0.3, random_state=42)"
   ]
  },
  {
   "cell_type": "code",
   "execution_count": 64,
   "metadata": {},
   "outputs": [],
   "source": [
    "df4=df1.copy(deep=True)\n",
    "city_dummies=pd.get_dummies(df4.city, prefix='city').iloc[:,1:]\n",
    "phone_dummies=pd.get_dummies(df4.phone, prefix='phone').iloc[:,1:]\n",
    "ultimate_black_dummies=pd.get_dummies(df4.ultimate_black_user, prefix='ultimate_black_user').iloc[:,1:]\n",
    "df4=pd.concat([df4,city_dummies,phone_dummies,ultimate_black_dummies], axis=1)"
   ]
  },
  {
   "cell_type": "code",
   "execution_count": 65,
   "metadata": {},
   "outputs": [
    {
     "data": {
      "text/plain": [
       "['avg_dist',\n",
       " 'avg_rating_by_driver',\n",
       " 'avg_rating_of_driver',\n",
       " 'avg_surge',\n",
       " 'city',\n",
       " 'last_trip_date',\n",
       " 'phone',\n",
       " 'signup_date',\n",
       " 'surge_pct',\n",
       " 'trips_in_first_30_days',\n",
       " 'ultimate_black_user',\n",
       " 'weekday_pct',\n",
       " 'days_till_signup',\n",
       " 'days_till_last_ride',\n",
       " 'is_retained',\n",
       " 'days_between_dates',\n",
       " 'city_mean',\n",
       " 'city_dist_by_cust',\n",
       " 'perfect_riders',\n",
       " 'perfect_drivers',\n",
       " 'weekday_surge',\n",
       " 'avg_surge_cust_over_city',\n",
       " 'signup_day',\n",
       " \"city_King's Landing\",\n",
       " 'city_Winterfell',\n",
       " 'phone_iPhone',\n",
       " 'phone_unknown',\n",
       " 'ultimate_black_user_True']"
      ]
     },
     "execution_count": 65,
     "metadata": {},
     "output_type": "execute_result"
    }
   ],
   "source": [
    "features_dum=list(df4.columns)\n",
    "features_dum"
   ]
  },
  {
   "cell_type": "code",
   "execution_count": 66,
   "metadata": {},
   "outputs": [],
   "source": [
    "remove=['is_retained','last_trip_date','signup_date','days_till_last_ride','city','phone','ultimate_black_user','days_between_dates']\n",
    "features_dum.remove(remove[0])\n",
    "features_dum.remove(remove[1])\n",
    "features_dum.remove(remove[2])\n",
    "features_dum.remove(remove[3])\n",
    "features_dum.remove(remove[4])\n",
    "features_dum.remove(remove[5])\n",
    "features_dum.remove(remove[6])\n",
    "features_dum.remove(remove[7])"
   ]
  },
  {
   "cell_type": "code",
   "execution_count": 67,
   "metadata": {},
   "outputs": [
    {
     "data": {
      "text/plain": [
       "20"
      ]
     },
     "execution_count": 67,
     "metadata": {},
     "output_type": "execute_result"
    }
   ],
   "source": [
    "len(features_dum)"
   ]
  },
  {
   "cell_type": "code",
   "execution_count": 69,
   "metadata": {
    "scrolled": true
   },
   "outputs": [
    {
     "data": {
      "text/html": [
       "<div>\n",
       "<style scoped>\n",
       "    .dataframe tbody tr th:only-of-type {\n",
       "        vertical-align: middle;\n",
       "    }\n",
       "\n",
       "    .dataframe tbody tr th {\n",
       "        vertical-align: top;\n",
       "    }\n",
       "\n",
       "    .dataframe thead th {\n",
       "        text-align: right;\n",
       "    }\n",
       "</style>\n",
       "<table border=\"1\" class=\"dataframe\">\n",
       "  <thead>\n",
       "    <tr style=\"text-align: right;\">\n",
       "      <th></th>\n",
       "      <th>avg_dist</th>\n",
       "      <th>avg_rating_by_driver</th>\n",
       "      <th>avg_rating_of_driver</th>\n",
       "      <th>avg_surge</th>\n",
       "      <th>city</th>\n",
       "      <th>last_trip_date</th>\n",
       "      <th>phone</th>\n",
       "      <th>signup_date</th>\n",
       "      <th>surge_pct</th>\n",
       "      <th>trips_in_first_30_days</th>\n",
       "      <th>...</th>\n",
       "      <th>perfect_riders</th>\n",
       "      <th>perfect_drivers</th>\n",
       "      <th>weekday_surge</th>\n",
       "      <th>avg_surge_cust_over_city</th>\n",
       "      <th>signup_day</th>\n",
       "      <th>city_King's Landing</th>\n",
       "      <th>city_Winterfell</th>\n",
       "      <th>phone_iPhone</th>\n",
       "      <th>phone_unknown</th>\n",
       "      <th>ultimate_black_user_True</th>\n",
       "    </tr>\n",
       "  </thead>\n",
       "  <tbody>\n",
       "    <tr>\n",
       "      <th>0</th>\n",
       "      <td>3.67</td>\n",
       "      <td>5.0</td>\n",
       "      <td>4.7</td>\n",
       "      <td>1.10</td>\n",
       "      <td>King's Landing</td>\n",
       "      <td>2014-06-17</td>\n",
       "      <td>iPhone</td>\n",
       "      <td>2014-01-25</td>\n",
       "      <td>15.4</td>\n",
       "      <td>4</td>\n",
       "      <td>...</td>\n",
       "      <td>1</td>\n",
       "      <td>0</td>\n",
       "      <td>711.48</td>\n",
       "      <td>1.037736</td>\n",
       "      <td>5</td>\n",
       "      <td>1</td>\n",
       "      <td>0</td>\n",
       "      <td>1</td>\n",
       "      <td>0</td>\n",
       "      <td>1</td>\n",
       "    </tr>\n",
       "    <tr>\n",
       "      <th>1</th>\n",
       "      <td>8.26</td>\n",
       "      <td>5.0</td>\n",
       "      <td>5.0</td>\n",
       "      <td>1.00</td>\n",
       "      <td>Astapor</td>\n",
       "      <td>2014-05-05</td>\n",
       "      <td>Android</td>\n",
       "      <td>2014-01-29</td>\n",
       "      <td>0.0</td>\n",
       "      <td>0</td>\n",
       "      <td>...</td>\n",
       "      <td>1</td>\n",
       "      <td>1</td>\n",
       "      <td>0.00</td>\n",
       "      <td>0.943396</td>\n",
       "      <td>2</td>\n",
       "      <td>0</td>\n",
       "      <td>0</td>\n",
       "      <td>0</td>\n",
       "      <td>0</td>\n",
       "      <td>0</td>\n",
       "    </tr>\n",
       "    <tr>\n",
       "      <th>2</th>\n",
       "      <td>0.77</td>\n",
       "      <td>5.0</td>\n",
       "      <td>4.3</td>\n",
       "      <td>1.00</td>\n",
       "      <td>Astapor</td>\n",
       "      <td>2014-01-07</td>\n",
       "      <td>iPhone</td>\n",
       "      <td>2014-01-06</td>\n",
       "      <td>0.0</td>\n",
       "      <td>3</td>\n",
       "      <td>...</td>\n",
       "      <td>1</td>\n",
       "      <td>0</td>\n",
       "      <td>0.00</td>\n",
       "      <td>0.943396</td>\n",
       "      <td>0</td>\n",
       "      <td>0</td>\n",
       "      <td>0</td>\n",
       "      <td>1</td>\n",
       "      <td>0</td>\n",
       "      <td>0</td>\n",
       "    </tr>\n",
       "    <tr>\n",
       "      <th>3</th>\n",
       "      <td>2.36</td>\n",
       "      <td>4.9</td>\n",
       "      <td>4.6</td>\n",
       "      <td>1.14</td>\n",
       "      <td>King's Landing</td>\n",
       "      <td>2014-06-29</td>\n",
       "      <td>iPhone</td>\n",
       "      <td>2014-01-10</td>\n",
       "      <td>20.0</td>\n",
       "      <td>9</td>\n",
       "      <td>...</td>\n",
       "      <td>0</td>\n",
       "      <td>0</td>\n",
       "      <td>1600.00</td>\n",
       "      <td>1.075472</td>\n",
       "      <td>4</td>\n",
       "      <td>1</td>\n",
       "      <td>0</td>\n",
       "      <td>1</td>\n",
       "      <td>0</td>\n",
       "      <td>1</td>\n",
       "    </tr>\n",
       "    <tr>\n",
       "      <th>4</th>\n",
       "      <td>3.13</td>\n",
       "      <td>4.9</td>\n",
       "      <td>4.4</td>\n",
       "      <td>1.19</td>\n",
       "      <td>Winterfell</td>\n",
       "      <td>2014-03-15</td>\n",
       "      <td>Android</td>\n",
       "      <td>2014-01-27</td>\n",
       "      <td>11.8</td>\n",
       "      <td>14</td>\n",
       "      <td>...</td>\n",
       "      <td>0</td>\n",
       "      <td>0</td>\n",
       "      <td>972.32</td>\n",
       "      <td>1.144231</td>\n",
       "      <td>0</td>\n",
       "      <td>0</td>\n",
       "      <td>1</td>\n",
       "      <td>0</td>\n",
       "      <td>0</td>\n",
       "      <td>0</td>\n",
       "    </tr>\n",
       "  </tbody>\n",
       "</table>\n",
       "<p>5 rows × 28 columns</p>\n",
       "</div>"
      ],
      "text/plain": [
       "   avg_dist  avg_rating_by_driver  avg_rating_of_driver  avg_surge  \\\n",
       "0      3.67                   5.0                   4.7       1.10   \n",
       "1      8.26                   5.0                   5.0       1.00   \n",
       "2      0.77                   5.0                   4.3       1.00   \n",
       "3      2.36                   4.9                   4.6       1.14   \n",
       "4      3.13                   4.9                   4.4       1.19   \n",
       "\n",
       "             city last_trip_date    phone signup_date  surge_pct  \\\n",
       "0  King's Landing     2014-06-17   iPhone  2014-01-25       15.4   \n",
       "1         Astapor     2014-05-05  Android  2014-01-29        0.0   \n",
       "2         Astapor     2014-01-07   iPhone  2014-01-06        0.0   \n",
       "3  King's Landing     2014-06-29   iPhone  2014-01-10       20.0   \n",
       "4      Winterfell     2014-03-15  Android  2014-01-27       11.8   \n",
       "\n",
       "   trips_in_first_30_days  ...  perfect_riders  perfect_drivers  \\\n",
       "0                       4  ...               1                0   \n",
       "1                       0  ...               1                1   \n",
       "2                       3  ...               1                0   \n",
       "3                       9  ...               0                0   \n",
       "4                      14  ...               0                0   \n",
       "\n",
       "   weekday_surge  avg_surge_cust_over_city  signup_day  city_King's Landing  \\\n",
       "0         711.48                  1.037736           5                    1   \n",
       "1           0.00                  0.943396           2                    0   \n",
       "2           0.00                  0.943396           0                    0   \n",
       "3        1600.00                  1.075472           4                    1   \n",
       "4         972.32                  1.144231           0                    0   \n",
       "\n",
       "   city_Winterfell  phone_iPhone  phone_unknown  ultimate_black_user_True  \n",
       "0                0             1              0                         1  \n",
       "1                0             0              0                         0  \n",
       "2                0             1              0                         0  \n",
       "3                0             1              0                         1  \n",
       "4                1             0              0                         0  \n",
       "\n",
       "[5 rows x 28 columns]"
      ]
     },
     "execution_count": 69,
     "metadata": {},
     "output_type": "execute_result"
    }
   ],
   "source": [
    "df4.head()"
   ]
  },
  {
   "cell_type": "markdown",
   "metadata": {},
   "source": [
    "## Build a predictive model to help Ultimate determine whether or not a user will be active in their 6th month on the system."
   ]
  },
  {
   "cell_type": "code",
   "execution_count": 70,
   "metadata": {},
   "outputs": [],
   "source": [
    "X_train1, X_test1, y_train1, y_test1 = train_test_split(df4[features_dum], labels, test_size=0.3, random_state=42)"
   ]
  },
  {
   "cell_type": "markdown",
   "metadata": {},
   "source": [
    "## Random Forest Classifier"
   ]
  },
  {
   "cell_type": "code",
   "execution_count": 71,
   "metadata": {
    "scrolled": true
   },
   "outputs": [
    {
     "name": "stdout",
     "output_type": "stream",
     "text": [
      "Fitting 5 folds for each of 72 candidates, totalling 360 fits\n"
     ]
    },
    {
     "name": "stderr",
     "output_type": "stream",
     "text": [
      "[Parallel(n_jobs=-1)]: Using backend LokyBackend with 8 concurrent workers.\n",
      "[Parallel(n_jobs=-1)]: Done  34 tasks      | elapsed:    4.0s\n",
      "[Parallel(n_jobs=-1)]: Done 184 tasks      | elapsed:   10.9s\n",
      "[Parallel(n_jobs=-1)]: Done 360 out of 360 | elapsed:   16.0s finished\n"
     ]
    },
    {
     "name": "stdout",
     "output_type": "stream",
     "text": [
      "Best score: 0.778\n"
     ]
    }
   ],
   "source": [
    "rfc=RandomForestClassifier(random_state=42,n_jobs=-1,class_weight=weight)\n",
    "\n",
    "params_rf = {'n_estimators':[20,30,40],\n",
    "               'min_samples_leaf':[2,3], 'min_samples_split':[2,3],\n",
    "            'min_weight_fraction_leaf':[0.0,0.1],'min_impurity_decrease':[0.0,0.1,0.2]       \n",
    "                }\n",
    "\n",
    "\n",
    "# Instantiate grid_rf\n",
    "grid_rf = GridSearchCV(estimator=rfc,\n",
    "                       param_grid=params_rf,\n",
    "                       cv=5,\n",
    "                       verbose=1,\n",
    "                       n_jobs=-1)\n",
    "\n",
    "\n",
    "grid_rf.fit(X_train1, y_train1) \n",
    "\n",
    "# Extract the best estimator\n",
    "best_model_rf = grid_rf.best_estimator_\n",
    "\n",
    "# Predict test set labels\n",
    "rfc_pred = best_model_rf.predict(X_test1)\n",
    "\n",
    "# Compute rmse_test\n",
    "#rmse_test = MSE(ytest,ypred)**(0.5)\n",
    "\n",
    "# Print rmse_test\n",
    "#print('Test RMSE of best model: {:.3f}'.format(rmse_test)) \n",
    "print('Best score: {:.3f}'.format(grid_rf.best_score_)) \n"
   ]
  },
  {
   "cell_type": "code",
   "execution_count": 72,
   "metadata": {},
   "outputs": [
    {
     "data": {
      "text/plain": [
       "0.7668909981411607"
      ]
     },
     "execution_count": 72,
     "metadata": {},
     "output_type": "execute_result"
    }
   ],
   "source": [
    "from sklearn.metrics import roc_auc_score\n",
    "roc_auc_score(rfc_pred,y_test1)"
   ]
  },
  {
   "cell_type": "code",
   "execution_count": 73,
   "metadata": {},
   "outputs": [
    {
     "data": {
      "text/plain": [
       "array([[7552, 1619],\n",
       "       [1564, 3835]], dtype=int64)"
      ]
     },
     "execution_count": 73,
     "metadata": {},
     "output_type": "execute_result"
    }
   ],
   "source": [
    "from sklearn.metrics import confusion_matrix\n",
    "confusion_matrix(rfc_pred,y_test1)"
   ]
  },
  {
   "cell_type": "code",
   "execution_count": 74,
   "metadata": {},
   "outputs": [
    {
     "name": "stdout",
     "output_type": "stream",
     "text": [
      "Fitting 3 folds for each of 2 candidates, totalling 6 fits\n"
     ]
    },
    {
     "name": "stderr",
     "output_type": "stream",
     "text": [
      "[Parallel(n_jobs=-1)]: Using backend LokyBackend with 8 concurrent workers.\n",
      "[Parallel(n_jobs=-1)]: Done   6 out of   6 | elapsed:  7.3min finished\n"
     ]
    },
    {
     "name": "stdout",
     "output_type": "stream",
     "text": [
      "Best score: -0.528\n"
     ]
    }
   ],
   "source": [
    "lr=LogisticRegression(class_weight=weight,max_iter=1000)\n",
    "\n",
    "\n",
    "\n",
    "C=[0.05,0.1]\n",
    "params_lr = {'C':C, 'penalty': ['l1'],\n",
    "                'tol': [1e-10], 'solver': ['liblinear']\n",
    "                #, 'learning_rate':[0.15,0.2,0.25], 'depth':[4,6,8,10,12],'l2_leaf_reg':[0.005,0.1,0.2]\n",
    "            }\n",
    "\n",
    "\n",
    "# Instantiate grid_rf\n",
    "grid_lr = GridSearchCV(estimator=lr,\n",
    "                       param_grid=params_lr,scoring='neg_log_loss',\n",
    "                       cv=3,\n",
    "                       verbose=1,\n",
    "                       n_jobs=-1)\n",
    "\n",
    "\n",
    "grid_lr.fit(X_train1, y_train1) \n",
    "\n",
    "# Extract the best estimator\n",
    "best_model_lr = grid_lr.best_estimator_\n",
    "\n",
    "# Predict test set labels\n",
    "ypred = best_model_lr.predict(X_test1)\n",
    "\n",
    "# Compute rmse_test\n",
    "#rmse_test = MSE(ytest,ypred)**(0.5)\n",
    "\n",
    "# Print rmse_test\n",
    "#print('Test RMSE of best model: {:.3f}'.format(rmse_test)) \n",
    "print('Best score: {:.3f}'.format(grid_lr.best_score_)) \n"
   ]
  },
  {
   "cell_type": "code",
   "execution_count": 76,
   "metadata": {},
   "outputs": [],
   "source": [
    "from sklearn.metrics import accuracy_score\n",
    "\n",
    "from sklearn.metrics import confusion_matrix\n"
   ]
  },
  {
   "cell_type": "code",
   "execution_count": 79,
   "metadata": {},
   "outputs": [
    {
     "data": {
      "text/plain": [
       "0.7447494852436514"
      ]
     },
     "execution_count": 79,
     "metadata": {},
     "output_type": "execute_result"
    }
   ],
   "source": [
    "roc_auc_score(ypred,y_test)\n",
    "accuracy_score(ypred,y_test)"
   ]
  },
  {
   "cell_type": "code",
   "execution_count": 80,
   "metadata": {},
   "outputs": [
    {
     "data": {
      "text/plain": [
       "[(0, 'avg_dist'),\n",
       " (1, 'avg_rating_by_driver'),\n",
       " (2, 'avg_rating_of_driver'),\n",
       " (3, 'avg_surge'),\n",
       " (4, 'city'),\n",
       " (5, 'phone'),\n",
       " (6, 'surge_pct'),\n",
       " (7, 'trips_in_first_30_days'),\n",
       " (8, 'ultimate_black_user'),\n",
       " (9, 'weekday_pct'),\n",
       " (10, 'days_till_signup'),\n",
       " (11, 'city_mean'),\n",
       " (12, 'city_dist_by_cust'),\n",
       " (13, 'perfect_riders'),\n",
       " (14, 'perfect_drivers'),\n",
       " (15, 'weekday_surge'),\n",
       " (16, 'avg_surge_cust_over_city'),\n",
       " (17, 'signup_day')]"
      ]
     },
     "execution_count": 80,
     "metadata": {},
     "output_type": "execute_result"
    }
   ],
   "source": [
    "list(enumerate(features))"
   ]
  },
  {
   "cell_type": "code",
   "execution_count": 81,
   "metadata": {},
   "outputs": [
    {
     "data": {
      "text/html": [
       "<div>\n",
       "<style scoped>\n",
       "    .dataframe tbody tr th:only-of-type {\n",
       "        vertical-align: middle;\n",
       "    }\n",
       "\n",
       "    .dataframe tbody tr th {\n",
       "        vertical-align: top;\n",
       "    }\n",
       "\n",
       "    .dataframe thead th {\n",
       "        text-align: right;\n",
       "    }\n",
       "</style>\n",
       "<table border=\"1\" class=\"dataframe\">\n",
       "  <thead>\n",
       "    <tr style=\"text-align: right;\">\n",
       "      <th></th>\n",
       "      <th>avg_dist</th>\n",
       "      <th>avg_rating_by_driver</th>\n",
       "      <th>avg_rating_of_driver</th>\n",
       "      <th>avg_surge</th>\n",
       "      <th>city</th>\n",
       "      <th>last_trip_date</th>\n",
       "      <th>phone</th>\n",
       "      <th>signup_date</th>\n",
       "      <th>surge_pct</th>\n",
       "      <th>trips_in_first_30_days</th>\n",
       "      <th>...</th>\n",
       "      <th>days_till_last_ride</th>\n",
       "      <th>is_retained</th>\n",
       "      <th>days_between_dates</th>\n",
       "      <th>city_mean</th>\n",
       "      <th>city_dist_by_cust</th>\n",
       "      <th>perfect_riders</th>\n",
       "      <th>perfect_drivers</th>\n",
       "      <th>weekday_surge</th>\n",
       "      <th>avg_surge_cust_over_city</th>\n",
       "      <th>signup_day</th>\n",
       "    </tr>\n",
       "  </thead>\n",
       "  <tbody>\n",
       "    <tr>\n",
       "      <th>0</th>\n",
       "      <td>3.67</td>\n",
       "      <td>5.0</td>\n",
       "      <td>4.7</td>\n",
       "      <td>1.10</td>\n",
       "      <td>King's Landing</td>\n",
       "      <td>2014-06-17</td>\n",
       "      <td>iPhone</td>\n",
       "      <td>2014-01-25</td>\n",
       "      <td>15.4</td>\n",
       "      <td>4</td>\n",
       "      <td>...</td>\n",
       "      <td>14</td>\n",
       "      <td>1</td>\n",
       "      <td>143</td>\n",
       "      <td>2.50</td>\n",
       "      <td>21.959518</td>\n",
       "      <td>1</td>\n",
       "      <td>0</td>\n",
       "      <td>711.48</td>\n",
       "      <td>1.037736</td>\n",
       "      <td>5</td>\n",
       "    </tr>\n",
       "    <tr>\n",
       "      <th>1</th>\n",
       "      <td>8.26</td>\n",
       "      <td>5.0</td>\n",
       "      <td>5.0</td>\n",
       "      <td>1.00</td>\n",
       "      <td>Astapor</td>\n",
       "      <td>2014-05-05</td>\n",
       "      <td>Android</td>\n",
       "      <td>2014-01-29</td>\n",
       "      <td>0.0</td>\n",
       "      <td>0</td>\n",
       "      <td>...</td>\n",
       "      <td>57</td>\n",
       "      <td>0</td>\n",
       "      <td>96</td>\n",
       "      <td>1.99</td>\n",
       "      <td>44.714354</td>\n",
       "      <td>1</td>\n",
       "      <td>1</td>\n",
       "      <td>0.00</td>\n",
       "      <td>0.943396</td>\n",
       "      <td>2</td>\n",
       "    </tr>\n",
       "    <tr>\n",
       "      <th>2</th>\n",
       "      <td>0.77</td>\n",
       "      <td>5.0</td>\n",
       "      <td>4.3</td>\n",
       "      <td>1.00</td>\n",
       "      <td>Astapor</td>\n",
       "      <td>2014-01-07</td>\n",
       "      <td>iPhone</td>\n",
       "      <td>2014-01-06</td>\n",
       "      <td>0.0</td>\n",
       "      <td>3</td>\n",
       "      <td>...</td>\n",
       "      <td>175</td>\n",
       "      <td>0</td>\n",
       "      <td>1</td>\n",
       "      <td>1.99</td>\n",
       "      <td>4.168287</td>\n",
       "      <td>1</td>\n",
       "      <td>0</td>\n",
       "      <td>0.00</td>\n",
       "      <td>0.943396</td>\n",
       "      <td>0</td>\n",
       "    </tr>\n",
       "    <tr>\n",
       "      <th>3</th>\n",
       "      <td>2.36</td>\n",
       "      <td>4.9</td>\n",
       "      <td>4.6</td>\n",
       "      <td>1.14</td>\n",
       "      <td>King's Landing</td>\n",
       "      <td>2014-06-29</td>\n",
       "      <td>iPhone</td>\n",
       "      <td>2014-01-10</td>\n",
       "      <td>20.0</td>\n",
       "      <td>9</td>\n",
       "      <td>...</td>\n",
       "      <td>2</td>\n",
       "      <td>1</td>\n",
       "      <td>170</td>\n",
       "      <td>2.50</td>\n",
       "      <td>14.121107</td>\n",
       "      <td>0</td>\n",
       "      <td>0</td>\n",
       "      <td>1600.00</td>\n",
       "      <td>1.075472</td>\n",
       "      <td>4</td>\n",
       "    </tr>\n",
       "    <tr>\n",
       "      <th>4</th>\n",
       "      <td>3.13</td>\n",
       "      <td>4.9</td>\n",
       "      <td>4.4</td>\n",
       "      <td>1.19</td>\n",
       "      <td>Winterfell</td>\n",
       "      <td>2014-03-15</td>\n",
       "      <td>Android</td>\n",
       "      <td>2014-01-27</td>\n",
       "      <td>11.8</td>\n",
       "      <td>14</td>\n",
       "      <td>...</td>\n",
       "      <td>108</td>\n",
       "      <td>0</td>\n",
       "      <td>47</td>\n",
       "      <td>2.47</td>\n",
       "      <td>18.730170</td>\n",
       "      <td>0</td>\n",
       "      <td>0</td>\n",
       "      <td>972.32</td>\n",
       "      <td>1.144231</td>\n",
       "      <td>0</td>\n",
       "    </tr>\n",
       "  </tbody>\n",
       "</table>\n",
       "<p>5 rows × 23 columns</p>\n",
       "</div>"
      ],
      "text/plain": [
       "   avg_dist  avg_rating_by_driver  avg_rating_of_driver  avg_surge  \\\n",
       "0      3.67                   5.0                   4.7       1.10   \n",
       "1      8.26                   5.0                   5.0       1.00   \n",
       "2      0.77                   5.0                   4.3       1.00   \n",
       "3      2.36                   4.9                   4.6       1.14   \n",
       "4      3.13                   4.9                   4.4       1.19   \n",
       "\n",
       "             city last_trip_date    phone signup_date  surge_pct  \\\n",
       "0  King's Landing     2014-06-17   iPhone  2014-01-25       15.4   \n",
       "1         Astapor     2014-05-05  Android  2014-01-29        0.0   \n",
       "2         Astapor     2014-01-07   iPhone  2014-01-06        0.0   \n",
       "3  King's Landing     2014-06-29   iPhone  2014-01-10       20.0   \n",
       "4      Winterfell     2014-03-15  Android  2014-01-27       11.8   \n",
       "\n",
       "   trips_in_first_30_days  ...  days_till_last_ride  is_retained  \\\n",
       "0                       4  ...                   14            1   \n",
       "1                       0  ...                   57            0   \n",
       "2                       3  ...                  175            0   \n",
       "3                       9  ...                    2            1   \n",
       "4                      14  ...                  108            0   \n",
       "\n",
       "   days_between_dates  city_mean  city_dist_by_cust  perfect_riders  \\\n",
       "0                 143       2.50          21.959518               1   \n",
       "1                  96       1.99          44.714354               1   \n",
       "2                   1       1.99           4.168287               1   \n",
       "3                 170       2.50          14.121107               0   \n",
       "4                  47       2.47          18.730170               0   \n",
       "\n",
       "   perfect_drivers  weekday_surge  avg_surge_cust_over_city  signup_day  \n",
       "0                0         711.48                  1.037736           5  \n",
       "1                1           0.00                  0.943396           2  \n",
       "2                0           0.00                  0.943396           0  \n",
       "3                0        1600.00                  1.075472           4  \n",
       "4                0         972.32                  1.144231           0  \n",
       "\n",
       "[5 rows x 23 columns]"
      ]
     },
     "execution_count": 81,
     "metadata": {},
     "output_type": "execute_result"
    }
   ],
   "source": [
    "df1.head()"
   ]
  },
  {
   "cell_type": "code",
   "execution_count": 82,
   "metadata": {
    "scrolled": true
   },
   "outputs": [
    {
     "name": "stdout",
     "output_type": "stream",
     "text": [
      "Fitting 2 folds for each of 4 candidates, totalling 8 fits\n"
     ]
    },
    {
     "name": "stderr",
     "output_type": "stream",
     "text": [
      "[Parallel(n_jobs=-1)]: Using backend LokyBackend with 8 concurrent workers.\n",
      "[Parallel(n_jobs=-1)]: Done   2 out of   8 | elapsed:   21.8s remaining:  1.1min\n",
      "[Parallel(n_jobs=-1)]: Done   8 out of   8 | elapsed:   23.2s finished\n"
     ]
    },
    {
     "name": "stdout",
     "output_type": "stream",
     "text": [
      "0:\tlearn: 0.6654365\ttest: 0.6650044\tbest: 0.6650044 (0)\ttotal: 84.8ms\tremaining: 21.1s\n",
      "1:\tlearn: 0.6406232\ttest: 0.6400940\tbest: 0.6400940 (1)\ttotal: 117ms\tremaining: 14.5s\n",
      "2:\tlearn: 0.6211847\ttest: 0.6205714\tbest: 0.6205714 (2)\ttotal: 149ms\tremaining: 12.2s\n",
      "3:\tlearn: 0.6037903\ttest: 0.6029615\tbest: 0.6029615 (3)\ttotal: 181ms\tremaining: 11.1s\n",
      "4:\tlearn: 0.5899235\ttest: 0.5887572\tbest: 0.5887572 (4)\ttotal: 212ms\tremaining: 10.4s\n",
      "5:\tlearn: 0.5793847\ttest: 0.5779153\tbest: 0.5779153 (5)\ttotal: 242ms\tremaining: 9.86s\n",
      "6:\tlearn: 0.5676755\ttest: 0.5658589\tbest: 0.5658589 (6)\ttotal: 273ms\tremaining: 9.47s\n",
      "7:\tlearn: 0.5591547\ttest: 0.5573130\tbest: 0.5573130 (7)\ttotal: 303ms\tremaining: 9.16s\n",
      "8:\tlearn: 0.5519878\ttest: 0.5501695\tbest: 0.5501695 (8)\ttotal: 330ms\tremaining: 8.84s\n",
      "9:\tlearn: 0.5448888\ttest: 0.5427394\tbest: 0.5427394 (9)\ttotal: 361ms\tremaining: 8.66s\n",
      "10:\tlearn: 0.5392640\ttest: 0.5370770\tbest: 0.5370770 (10)\ttotal: 393ms\tremaining: 8.53s\n",
      "11:\tlearn: 0.5341427\ttest: 0.5317760\tbest: 0.5317760 (11)\ttotal: 423ms\tremaining: 8.39s\n",
      "12:\tlearn: 0.5301325\ttest: 0.5276355\tbest: 0.5276355 (12)\ttotal: 453ms\tremaining: 8.27s\n",
      "13:\tlearn: 0.5251736\ttest: 0.5224292\tbest: 0.5224292 (13)\ttotal: 484ms\tremaining: 8.16s\n",
      "14:\tlearn: 0.5215119\ttest: 0.5187245\tbest: 0.5187245 (14)\ttotal: 514ms\tremaining: 8.05s\n",
      "15:\tlearn: 0.5180282\ttest: 0.5152051\tbest: 0.5152051 (15)\ttotal: 545ms\tremaining: 7.96s\n",
      "16:\tlearn: 0.5158289\ttest: 0.5131431\tbest: 0.5131431 (16)\ttotal: 572ms\tremaining: 7.84s\n",
      "17:\tlearn: 0.5138266\ttest: 0.5111079\tbest: 0.5111079 (17)\ttotal: 600ms\tremaining: 7.73s\n",
      "18:\tlearn: 0.5118648\ttest: 0.5092073\tbest: 0.5092073 (18)\ttotal: 627ms\tremaining: 7.62s\n",
      "19:\tlearn: 0.5092544\ttest: 0.5064266\tbest: 0.5064266 (19)\ttotal: 655ms\tremaining: 7.54s\n",
      "20:\tlearn: 0.5071738\ttest: 0.5044123\tbest: 0.5044123 (20)\ttotal: 686ms\tremaining: 7.48s\n",
      "21:\tlearn: 0.5055498\ttest: 0.5027729\tbest: 0.5027729 (21)\ttotal: 715ms\tremaining: 7.41s\n",
      "22:\tlearn: 0.5039920\ttest: 0.5011348\tbest: 0.5011348 (22)\ttotal: 746ms\tremaining: 7.36s\n",
      "23:\tlearn: 0.5019282\ttest: 0.4989749\tbest: 0.4989749 (23)\ttotal: 776ms\tremaining: 7.3s\n",
      "24:\tlearn: 0.5006747\ttest: 0.4975795\tbest: 0.4975795 (24)\ttotal: 806ms\tremaining: 7.25s\n",
      "25:\tlearn: 0.4994791\ttest: 0.4964226\tbest: 0.4964226 (25)\ttotal: 836ms\tremaining: 7.2s\n",
      "26:\tlearn: 0.4982876\ttest: 0.4952010\tbest: 0.4952010 (26)\ttotal: 865ms\tremaining: 7.15s\n",
      "27:\tlearn: 0.4972452\ttest: 0.4942225\tbest: 0.4942225 (27)\ttotal: 894ms\tremaining: 7.09s\n",
      "28:\tlearn: 0.4963421\ttest: 0.4933374\tbest: 0.4933374 (28)\ttotal: 924ms\tremaining: 7.04s\n",
      "29:\tlearn: 0.4953185\ttest: 0.4923436\tbest: 0.4923436 (29)\ttotal: 955ms\tremaining: 7s\n",
      "30:\tlearn: 0.4943531\ttest: 0.4914452\tbest: 0.4914452 (30)\ttotal: 984ms\tremaining: 6.95s\n",
      "31:\tlearn: 0.4932184\ttest: 0.4903402\tbest: 0.4903402 (31)\ttotal: 1.01s\tremaining: 6.9s\n",
      "32:\tlearn: 0.4925637\ttest: 0.4898448\tbest: 0.4898448 (32)\ttotal: 1.04s\tremaining: 6.86s\n",
      "33:\tlearn: 0.4916056\ttest: 0.4888250\tbest: 0.4888250 (33)\ttotal: 1.07s\tremaining: 6.81s\n",
      "34:\tlearn: 0.4912483\ttest: 0.4885182\tbest: 0.4885182 (34)\ttotal: 1.1s\tremaining: 6.75s\n",
      "35:\tlearn: 0.4906739\ttest: 0.4879065\tbest: 0.4879065 (35)\ttotal: 1.13s\tremaining: 6.72s\n",
      "36:\tlearn: 0.4900704\ttest: 0.4872569\tbest: 0.4872569 (36)\ttotal: 1.16s\tremaining: 6.68s\n",
      "37:\tlearn: 0.4896924\ttest: 0.4869294\tbest: 0.4869294 (37)\ttotal: 1.19s\tremaining: 6.64s\n",
      "38:\tlearn: 0.4893392\ttest: 0.4866262\tbest: 0.4866262 (38)\ttotal: 1.22s\tremaining: 6.61s\n",
      "39:\tlearn: 0.4887081\ttest: 0.4861103\tbest: 0.4861103 (39)\ttotal: 1.25s\tremaining: 6.57s\n",
      "40:\tlearn: 0.4882394\ttest: 0.4857016\tbest: 0.4857016 (40)\ttotal: 1.28s\tremaining: 6.54s\n",
      "41:\tlearn: 0.4880145\ttest: 0.4855447\tbest: 0.4855447 (41)\ttotal: 1.31s\tremaining: 6.5s\n",
      "42:\tlearn: 0.4876576\ttest: 0.4852516\tbest: 0.4852516 (42)\ttotal: 1.34s\tremaining: 6.45s\n",
      "43:\tlearn: 0.4873131\ttest: 0.4849723\tbest: 0.4849723 (43)\ttotal: 1.37s\tremaining: 6.42s\n",
      "44:\tlearn: 0.4869487\ttest: 0.4846354\tbest: 0.4846354 (44)\ttotal: 1.4s\tremaining: 6.38s\n",
      "45:\tlearn: 0.4863433\ttest: 0.4841101\tbest: 0.4841101 (45)\ttotal: 1.43s\tremaining: 6.34s\n",
      "46:\tlearn: 0.4857382\ttest: 0.4835195\tbest: 0.4835195 (46)\ttotal: 1.46s\tremaining: 6.3s\n",
      "47:\tlearn: 0.4852670\ttest: 0.4831762\tbest: 0.4831762 (47)\ttotal: 1.49s\tremaining: 6.27s\n",
      "48:\tlearn: 0.4847589\ttest: 0.4827739\tbest: 0.4827739 (48)\ttotal: 1.52s\tremaining: 6.23s\n",
      "49:\tlearn: 0.4841153\ttest: 0.4822117\tbest: 0.4822117 (49)\ttotal: 1.55s\tremaining: 6.2s\n",
      "50:\tlearn: 0.4839507\ttest: 0.4820795\tbest: 0.4820795 (50)\ttotal: 1.58s\tremaining: 6.17s\n",
      "51:\tlearn: 0.4837859\ttest: 0.4818781\tbest: 0.4818781 (51)\ttotal: 1.6s\tremaining: 6.11s\n",
      "52:\tlearn: 0.4836225\ttest: 0.4817348\tbest: 0.4817348 (52)\ttotal: 1.64s\tremaining: 6.08s\n",
      "53:\tlearn: 0.4834187\ttest: 0.4815422\tbest: 0.4815422 (53)\ttotal: 1.67s\tremaining: 6.06s\n",
      "54:\tlearn: 0.4832970\ttest: 0.4814581\tbest: 0.4814581 (54)\ttotal: 1.7s\tremaining: 6.03s\n",
      "55:\tlearn: 0.4830900\ttest: 0.4813054\tbest: 0.4813054 (55)\ttotal: 1.73s\tremaining: 5.99s\n",
      "56:\tlearn: 0.4828954\ttest: 0.4810716\tbest: 0.4810716 (56)\ttotal: 1.76s\tremaining: 5.96s\n",
      "57:\tlearn: 0.4826530\ttest: 0.4809013\tbest: 0.4809013 (57)\ttotal: 1.79s\tremaining: 5.92s\n",
      "58:\tlearn: 0.4823634\ttest: 0.4806295\tbest: 0.4806295 (58)\ttotal: 1.82s\tremaining: 5.88s\n",
      "59:\tlearn: 0.4820602\ttest: 0.4803446\tbest: 0.4803446 (59)\ttotal: 1.84s\tremaining: 5.84s\n",
      "60:\tlearn: 0.4818592\ttest: 0.4801753\tbest: 0.4801753 (60)\ttotal: 1.88s\tremaining: 5.81s\n",
      "61:\tlearn: 0.4817129\ttest: 0.4800689\tbest: 0.4800689 (61)\ttotal: 1.9s\tremaining: 5.78s\n",
      "62:\tlearn: 0.4814014\ttest: 0.4798228\tbest: 0.4798228 (62)\ttotal: 1.94s\tremaining: 5.75s\n",
      "63:\tlearn: 0.4811324\ttest: 0.4795749\tbest: 0.4795749 (63)\ttotal: 1.97s\tremaining: 5.72s\n",
      "64:\tlearn: 0.4810149\ttest: 0.4794827\tbest: 0.4794827 (64)\ttotal: 2s\tremaining: 5.69s\n",
      "65:\tlearn: 0.4808938\ttest: 0.4794049\tbest: 0.4794049 (65)\ttotal: 2.04s\tremaining: 5.67s\n",
      "66:\tlearn: 0.4808390\ttest: 0.4793986\tbest: 0.4793986 (66)\ttotal: 2.07s\tremaining: 5.65s\n",
      "67:\tlearn: 0.4804328\ttest: 0.4790396\tbest: 0.4790396 (67)\ttotal: 2.1s\tremaining: 5.61s\n",
      "68:\tlearn: 0.4801794\ttest: 0.4788245\tbest: 0.4788245 (68)\ttotal: 2.12s\tremaining: 5.57s\n",
      "69:\tlearn: 0.4799492\ttest: 0.4786140\tbest: 0.4786140 (69)\ttotal: 2.15s\tremaining: 5.53s\n",
      "70:\tlearn: 0.4797966\ttest: 0.4784801\tbest: 0.4784801 (70)\ttotal: 2.18s\tremaining: 5.5s\n",
      "71:\tlearn: 0.4797136\ttest: 0.4784466\tbest: 0.4784466 (71)\ttotal: 2.21s\tremaining: 5.47s\n",
      "72:\tlearn: 0.4796341\ttest: 0.4784161\tbest: 0.4784161 (72)\ttotal: 2.24s\tremaining: 5.44s\n",
      "73:\tlearn: 0.4793242\ttest: 0.4782336\tbest: 0.4782336 (73)\ttotal: 2.27s\tremaining: 5.41s\n",
      "74:\tlearn: 0.4792967\ttest: 0.4782262\tbest: 0.4782262 (74)\ttotal: 2.29s\tremaining: 5.35s\n",
      "75:\tlearn: 0.4791442\ttest: 0.4780849\tbest: 0.4780849 (75)\ttotal: 2.32s\tremaining: 5.31s\n",
      "76:\tlearn: 0.4789442\ttest: 0.4779204\tbest: 0.4779204 (76)\ttotal: 2.35s\tremaining: 5.28s\n",
      "77:\tlearn: 0.4787545\ttest: 0.4777595\tbest: 0.4777595 (77)\ttotal: 2.38s\tremaining: 5.25s\n",
      "78:\tlearn: 0.4787278\ttest: 0.4777481\tbest: 0.4777481 (78)\ttotal: 2.41s\tremaining: 5.21s\n",
      "79:\tlearn: 0.4783958\ttest: 0.4774466\tbest: 0.4774466 (79)\ttotal: 2.44s\tremaining: 5.17s\n",
      "80:\tlearn: 0.4780712\ttest: 0.4772586\tbest: 0.4772586 (80)\ttotal: 2.46s\tremaining: 5.14s\n",
      "81:\tlearn: 0.4779001\ttest: 0.4771303\tbest: 0.4771303 (81)\ttotal: 2.49s\tremaining: 5.11s\n",
      "82:\tlearn: 0.4777042\ttest: 0.4769627\tbest: 0.4769627 (82)\ttotal: 2.52s\tremaining: 5.07s\n",
      "83:\tlearn: 0.4776152\ttest: 0.4769096\tbest: 0.4769096 (83)\ttotal: 2.55s\tremaining: 5.04s\n",
      "84:\tlearn: 0.4776044\ttest: 0.4768833\tbest: 0.4768833 (84)\ttotal: 2.58s\tremaining: 5.01s\n",
      "85:\tlearn: 0.4774487\ttest: 0.4767461\tbest: 0.4767461 (85)\ttotal: 2.61s\tremaining: 4.98s\n",
      "86:\tlearn: 0.4773656\ttest: 0.4766887\tbest: 0.4766887 (86)\ttotal: 2.64s\tremaining: 4.95s\n",
      "87:\tlearn: 0.4771511\ttest: 0.4765068\tbest: 0.4765068 (87)\ttotal: 2.67s\tremaining: 4.92s\n",
      "88:\tlearn: 0.4768997\ttest: 0.4762889\tbest: 0.4762889 (88)\ttotal: 2.7s\tremaining: 4.88s\n",
      "89:\tlearn: 0.4767197\ttest: 0.4761333\tbest: 0.4761333 (89)\ttotal: 2.73s\tremaining: 4.85s\n",
      "90:\tlearn: 0.4767197\ttest: 0.4761333\tbest: 0.4761333 (89)\ttotal: 2.75s\tremaining: 4.8s\n",
      "91:\tlearn: 0.4765509\ttest: 0.4760467\tbest: 0.4760467 (91)\ttotal: 2.78s\tremaining: 4.77s\n",
      "92:\tlearn: 0.4764125\ttest: 0.4759138\tbest: 0.4759138 (92)\ttotal: 2.81s\tremaining: 4.74s\n",
      "93:\tlearn: 0.4763964\ttest: 0.4759133\tbest: 0.4759133 (93)\ttotal: 2.83s\tremaining: 4.7s\n",
      "94:\tlearn: 0.4763833\ttest: 0.4759144\tbest: 0.4759133 (93)\ttotal: 2.85s\tremaining: 4.65s\n",
      "95:\tlearn: 0.4763142\ttest: 0.4758369\tbest: 0.4758369 (95)\ttotal: 2.88s\tremaining: 4.62s\n",
      "96:\tlearn: 0.4761766\ttest: 0.4756828\tbest: 0.4756828 (96)\ttotal: 2.91s\tremaining: 4.58s\n",
      "97:\tlearn: 0.4761006\ttest: 0.4756676\tbest: 0.4756676 (97)\ttotal: 2.94s\tremaining: 4.56s\n",
      "98:\tlearn: 0.4760766\ttest: 0.4756409\tbest: 0.4756409 (98)\ttotal: 2.96s\tremaining: 4.52s\n",
      "99:\tlearn: 0.4760383\ttest: 0.4756043\tbest: 0.4756043 (99)\ttotal: 2.99s\tremaining: 4.48s\n",
      "100:\tlearn: 0.4760383\ttest: 0.4756043\tbest: 0.4756043 (99)\ttotal: 3s\tremaining: 4.43s\n"
     ]
    },
    {
     "name": "stdout",
     "output_type": "stream",
     "text": [
      "101:\tlearn: 0.4758444\ttest: 0.4754456\tbest: 0.4754456 (101)\ttotal: 3.03s\tremaining: 4.4s\n",
      "102:\tlearn: 0.4758234\ttest: 0.4754300\tbest: 0.4754300 (102)\ttotal: 3.06s\tremaining: 4.37s\n",
      "103:\tlearn: 0.4758166\ttest: 0.4754335\tbest: 0.4754300 (102)\ttotal: 3.08s\tremaining: 4.32s\n",
      "104:\tlearn: 0.4756086\ttest: 0.4753238\tbest: 0.4753238 (104)\ttotal: 3.11s\tremaining: 4.29s\n",
      "105:\tlearn: 0.4753148\ttest: 0.4750640\tbest: 0.4750640 (105)\ttotal: 3.13s\tremaining: 4.26s\n",
      "106:\tlearn: 0.4750378\ttest: 0.4748988\tbest: 0.4748988 (106)\ttotal: 3.16s\tremaining: 4.22s\n",
      "107:\tlearn: 0.4748495\ttest: 0.4747611\tbest: 0.4747611 (107)\ttotal: 3.19s\tremaining: 4.19s\n",
      "108:\tlearn: 0.4747330\ttest: 0.4746489\tbest: 0.4746489 (108)\ttotal: 3.22s\tremaining: 4.17s\n",
      "109:\tlearn: 0.4744999\ttest: 0.4745593\tbest: 0.4745593 (109)\ttotal: 3.25s\tremaining: 4.14s\n",
      "110:\tlearn: 0.4744947\ttest: 0.4745632\tbest: 0.4745593 (109)\ttotal: 3.27s\tremaining: 4.1s\n",
      "111:\tlearn: 0.4744175\ttest: 0.4745135\tbest: 0.4745135 (111)\ttotal: 3.3s\tremaining: 4.07s\n",
      "112:\tlearn: 0.4744053\ttest: 0.4745085\tbest: 0.4745085 (112)\ttotal: 3.34s\tremaining: 4.05s\n",
      "113:\tlearn: 0.4742810\ttest: 0.4743947\tbest: 0.4743947 (113)\ttotal: 3.37s\tremaining: 4.02s\n",
      "114:\tlearn: 0.4741862\ttest: 0.4743252\tbest: 0.4743252 (114)\ttotal: 3.4s\tremaining: 3.99s\n",
      "115:\tlearn: 0.4740939\ttest: 0.4743297\tbest: 0.4743252 (114)\ttotal: 3.43s\tremaining: 3.96s\n",
      "116:\tlearn: 0.4739231\ttest: 0.4742395\tbest: 0.4742395 (116)\ttotal: 3.46s\tremaining: 3.93s\n",
      "117:\tlearn: 0.4738570\ttest: 0.4742031\tbest: 0.4742031 (117)\ttotal: 3.49s\tremaining: 3.9s\n",
      "118:\tlearn: 0.4737737\ttest: 0.4741488\tbest: 0.4741488 (118)\ttotal: 3.52s\tremaining: 3.87s\n",
      "119:\tlearn: 0.4737720\ttest: 0.4741459\tbest: 0.4741459 (119)\ttotal: 3.54s\tremaining: 3.83s\n",
      "120:\tlearn: 0.4737390\ttest: 0.4741209\tbest: 0.4741209 (120)\ttotal: 3.56s\tremaining: 3.8s\n",
      "121:\tlearn: 0.4736424\ttest: 0.4741261\tbest: 0.4741209 (120)\ttotal: 3.59s\tremaining: 3.77s\n",
      "122:\tlearn: 0.4734506\ttest: 0.4739938\tbest: 0.4739938 (122)\ttotal: 3.62s\tremaining: 3.74s\n",
      "123:\tlearn: 0.4733011\ttest: 0.4739422\tbest: 0.4739422 (123)\ttotal: 3.65s\tremaining: 3.71s\n",
      "124:\tlearn: 0.4732963\ttest: 0.4739371\tbest: 0.4739371 (124)\ttotal: 3.68s\tremaining: 3.68s\n",
      "125:\tlearn: 0.4731606\ttest: 0.4738330\tbest: 0.4738330 (125)\ttotal: 3.71s\tremaining: 3.65s\n",
      "126:\tlearn: 0.4731286\ttest: 0.4737973\tbest: 0.4737973 (126)\ttotal: 3.73s\tremaining: 3.61s\n",
      "127:\tlearn: 0.4731255\ttest: 0.4738013\tbest: 0.4737973 (126)\ttotal: 3.75s\tremaining: 3.58s\n",
      "128:\tlearn: 0.4728636\ttest: 0.4735186\tbest: 0.4735186 (128)\ttotal: 3.78s\tremaining: 3.55s\n",
      "129:\tlearn: 0.4727105\ttest: 0.4734634\tbest: 0.4734634 (129)\ttotal: 3.81s\tremaining: 3.52s\n",
      "130:\tlearn: 0.4725553\ttest: 0.4733702\tbest: 0.4733702 (130)\ttotal: 3.84s\tremaining: 3.49s\n",
      "131:\tlearn: 0.4724873\ttest: 0.4733222\tbest: 0.4733222 (131)\ttotal: 3.87s\tremaining: 3.46s\n",
      "132:\tlearn: 0.4723750\ttest: 0.4732731\tbest: 0.4732731 (132)\ttotal: 3.9s\tremaining: 3.43s\n",
      "133:\tlearn: 0.4723586\ttest: 0.4732653\tbest: 0.4732653 (133)\ttotal: 3.93s\tremaining: 3.4s\n",
      "134:\tlearn: 0.4722132\ttest: 0.4731314\tbest: 0.4731314 (134)\ttotal: 3.96s\tremaining: 3.38s\n",
      "135:\tlearn: 0.4721618\ttest: 0.4730681\tbest: 0.4730681 (135)\ttotal: 3.99s\tremaining: 3.35s\n",
      "136:\tlearn: 0.4720328\ttest: 0.4729720\tbest: 0.4729720 (136)\ttotal: 4.02s\tremaining: 3.32s\n",
      "137:\tlearn: 0.4718700\ttest: 0.4728224\tbest: 0.4728224 (137)\ttotal: 4.05s\tremaining: 3.29s\n",
      "138:\tlearn: 0.4717213\ttest: 0.4727066\tbest: 0.4727066 (138)\ttotal: 4.08s\tremaining: 3.26s\n",
      "139:\tlearn: 0.4715928\ttest: 0.4726236\tbest: 0.4726236 (139)\ttotal: 4.11s\tremaining: 3.23s\n",
      "140:\tlearn: 0.4715406\ttest: 0.4726154\tbest: 0.4726154 (140)\ttotal: 4.14s\tremaining: 3.2s\n",
      "141:\tlearn: 0.4714283\ttest: 0.4725607\tbest: 0.4725607 (141)\ttotal: 4.17s\tremaining: 3.17s\n",
      "142:\tlearn: 0.4714212\ttest: 0.4725645\tbest: 0.4725607 (141)\ttotal: 4.19s\tremaining: 3.14s\n",
      "143:\tlearn: 0.4713642\ttest: 0.4725654\tbest: 0.4725607 (141)\ttotal: 4.22s\tremaining: 3.11s\n",
      "144:\tlearn: 0.4712813\ttest: 0.4725663\tbest: 0.4725607 (141)\ttotal: 4.25s\tremaining: 3.08s\n",
      "145:\tlearn: 0.4711255\ttest: 0.4724761\tbest: 0.4724761 (145)\ttotal: 4.28s\tremaining: 3.05s\n",
      "146:\tlearn: 0.4711162\ttest: 0.4724797\tbest: 0.4724761 (145)\ttotal: 4.31s\tremaining: 3.02s\n",
      "147:\tlearn: 0.4709904\ttest: 0.4723615\tbest: 0.4723615 (147)\ttotal: 4.34s\tremaining: 2.99s\n",
      "148:\tlearn: 0.4709836\ttest: 0.4723650\tbest: 0.4723615 (147)\ttotal: 4.37s\tremaining: 2.96s\n",
      "149:\tlearn: 0.4709651\ttest: 0.4723382\tbest: 0.4723382 (149)\ttotal: 4.4s\tremaining: 2.94s\n",
      "150:\tlearn: 0.4708232\ttest: 0.4722734\tbest: 0.4722734 (150)\ttotal: 4.44s\tremaining: 2.91s\n",
      "151:\tlearn: 0.4707139\ttest: 0.4722226\tbest: 0.4722226 (151)\ttotal: 4.47s\tremaining: 2.88s\n",
      "152:\tlearn: 0.4707076\ttest: 0.4722188\tbest: 0.4722188 (152)\ttotal: 4.5s\tremaining: 2.85s\n",
      "153:\tlearn: 0.4707031\ttest: 0.4722037\tbest: 0.4722037 (153)\ttotal: 4.52s\tremaining: 2.82s\n",
      "154:\tlearn: 0.4706131\ttest: 0.4721518\tbest: 0.4721518 (154)\ttotal: 4.55s\tremaining: 2.79s\n",
      "155:\tlearn: 0.4705143\ttest: 0.4721663\tbest: 0.4721518 (154)\ttotal: 4.58s\tremaining: 2.76s\n",
      "156:\tlearn: 0.4705036\ttest: 0.4721695\tbest: 0.4721518 (154)\ttotal: 4.61s\tremaining: 2.73s\n",
      "157:\tlearn: 0.4703149\ttest: 0.4720029\tbest: 0.4720029 (157)\ttotal: 4.64s\tremaining: 2.7s\n",
      "158:\tlearn: 0.4702103\ttest: 0.4719668\tbest: 0.4719668 (158)\ttotal: 4.67s\tremaining: 2.67s\n",
      "159:\tlearn: 0.4702089\ttest: 0.4719702\tbest: 0.4719668 (158)\ttotal: 4.69s\tremaining: 2.64s\n",
      "160:\tlearn: 0.4701671\ttest: 0.4719631\tbest: 0.4719631 (160)\ttotal: 4.72s\tremaining: 2.61s\n",
      "161:\tlearn: 0.4701636\ttest: 0.4719661\tbest: 0.4719631 (160)\ttotal: 4.74s\tremaining: 2.58s\n",
      "162:\tlearn: 0.4701352\ttest: 0.4719670\tbest: 0.4719631 (160)\ttotal: 4.77s\tremaining: 2.55s\n",
      "163:\tlearn: 0.4700661\ttest: 0.4719286\tbest: 0.4719286 (163)\ttotal: 4.8s\tremaining: 2.52s\n",
      "164:\tlearn: 0.4700452\ttest: 0.4719223\tbest: 0.4719223 (164)\ttotal: 4.83s\tremaining: 2.49s\n",
      "165:\tlearn: 0.4700435\ttest: 0.4719252\tbest: 0.4719223 (164)\ttotal: 4.86s\tremaining: 2.46s\n",
      "166:\tlearn: 0.4699541\ttest: 0.4719135\tbest: 0.4719135 (166)\ttotal: 4.89s\tremaining: 2.43s\n",
      "167:\tlearn: 0.4699457\ttest: 0.4719160\tbest: 0.4719135 (166)\ttotal: 4.91s\tremaining: 2.4s\n",
      "168:\tlearn: 0.4698901\ttest: 0.4718718\tbest: 0.4718718 (168)\ttotal: 4.94s\tremaining: 2.37s\n",
      "169:\tlearn: 0.4698857\ttest: 0.4718743\tbest: 0.4718718 (168)\ttotal: 4.97s\tremaining: 2.34s\n",
      "170:\tlearn: 0.4698005\ttest: 0.4718812\tbest: 0.4718718 (168)\ttotal: 5s\tremaining: 2.31s\n",
      "171:\tlearn: 0.4697847\ttest: 0.4718652\tbest: 0.4718652 (171)\ttotal: 5.03s\tremaining: 2.28s\n",
      "172:\tlearn: 0.4697675\ttest: 0.4718733\tbest: 0.4718652 (171)\ttotal: 5.05s\tremaining: 2.25s\n",
      "173:\tlearn: 0.4697665\ttest: 0.4718756\tbest: 0.4718652 (171)\ttotal: 5.08s\tremaining: 2.22s\n",
      "174:\tlearn: 0.4696723\ttest: 0.4718163\tbest: 0.4718163 (174)\ttotal: 5.1s\tremaining: 2.19s\n",
      "175:\tlearn: 0.4695109\ttest: 0.4716779\tbest: 0.4716779 (175)\ttotal: 5.13s\tremaining: 2.16s\n",
      "176:\tlearn: 0.4694506\ttest: 0.4716720\tbest: 0.4716720 (176)\ttotal: 5.16s\tremaining: 2.13s\n",
      "177:\tlearn: 0.4694276\ttest: 0.4716779\tbest: 0.4716720 (176)\ttotal: 5.19s\tremaining: 2.1s\n",
      "178:\tlearn: 0.4693501\ttest: 0.4716355\tbest: 0.4716355 (178)\ttotal: 5.22s\tremaining: 2.07s\n",
      "179:\tlearn: 0.4693067\ttest: 0.4716097\tbest: 0.4716097 (179)\ttotal: 5.25s\tremaining: 2.04s\n",
      "180:\tlearn: 0.4692694\ttest: 0.4715957\tbest: 0.4715957 (180)\ttotal: 5.28s\tremaining: 2.01s\n",
      "181:\tlearn: 0.4692336\ttest: 0.4716417\tbest: 0.4715957 (180)\ttotal: 5.32s\tremaining: 1.99s\n",
      "182:\tlearn: 0.4692237\ttest: 0.4716488\tbest: 0.4715957 (180)\ttotal: 5.35s\tremaining: 1.96s\n",
      "183:\tlearn: 0.4691258\ttest: 0.4715802\tbest: 0.4715802 (183)\ttotal: 5.38s\tremaining: 1.93s\n",
      "184:\tlearn: 0.4691243\ttest: 0.4715823\tbest: 0.4715802 (183)\ttotal: 5.41s\tremaining: 1.9s\n",
      "185:\tlearn: 0.4690860\ttest: 0.4715757\tbest: 0.4715757 (185)\ttotal: 5.44s\tremaining: 1.87s\n",
      "186:\tlearn: 0.4690853\ttest: 0.4715777\tbest: 0.4715757 (185)\ttotal: 5.46s\tremaining: 1.84s\n",
      "187:\tlearn: 0.4690513\ttest: 0.4715801\tbest: 0.4715757 (185)\ttotal: 5.49s\tremaining: 1.81s\n",
      "188:\tlearn: 0.4689593\ttest: 0.4715617\tbest: 0.4715617 (188)\ttotal: 5.52s\tremaining: 1.78s\n",
      "189:\tlearn: 0.4688385\ttest: 0.4714793\tbest: 0.4714793 (189)\ttotal: 5.55s\tremaining: 1.75s\n",
      "190:\tlearn: 0.4688219\ttest: 0.4714805\tbest: 0.4714793 (189)\ttotal: 5.58s\tremaining: 1.72s\n",
      "191:\tlearn: 0.4687658\ttest: 0.4715037\tbest: 0.4714793 (189)\ttotal: 5.61s\tremaining: 1.7s\n",
      "192:\tlearn: 0.4686897\ttest: 0.4714951\tbest: 0.4714793 (189)\ttotal: 5.64s\tremaining: 1.67s\n",
      "193:\tlearn: 0.4685810\ttest: 0.4714291\tbest: 0.4714291 (193)\ttotal: 5.67s\tremaining: 1.64s\n",
      "194:\tlearn: 0.4684665\ttest: 0.4713527\tbest: 0.4713527 (194)\ttotal: 5.7s\tremaining: 1.61s\n",
      "195:\tlearn: 0.4684660\ttest: 0.4713515\tbest: 0.4713515 (195)\ttotal: 5.73s\tremaining: 1.58s\n",
      "196:\tlearn: 0.4683870\ttest: 0.4713352\tbest: 0.4713352 (196)\ttotal: 5.76s\tremaining: 1.55s\n",
      "197:\tlearn: 0.4683824\ttest: 0.4713339\tbest: 0.4713339 (197)\ttotal: 5.79s\tremaining: 1.52s\n"
     ]
    },
    {
     "name": "stdout",
     "output_type": "stream",
     "text": [
      "198:\tlearn: 0.4683774\ttest: 0.4713329\tbest: 0.4713329 (198)\ttotal: 5.81s\tremaining: 1.49s\n",
      "199:\tlearn: 0.4683726\ttest: 0.4713346\tbest: 0.4713329 (198)\ttotal: 5.85s\tremaining: 1.46s\n",
      "200:\tlearn: 0.4683315\ttest: 0.4713442\tbest: 0.4713329 (198)\ttotal: 5.88s\tremaining: 1.43s\n",
      "201:\tlearn: 0.4682380\ttest: 0.4712813\tbest: 0.4712813 (201)\ttotal: 5.91s\tremaining: 1.4s\n",
      "202:\tlearn: 0.4682009\ttest: 0.4712567\tbest: 0.4712567 (202)\ttotal: 5.94s\tremaining: 1.38s\n",
      "203:\tlearn: 0.4681810\ttest: 0.4712544\tbest: 0.4712544 (203)\ttotal: 5.97s\tremaining: 1.35s\n",
      "204:\tlearn: 0.4681656\ttest: 0.4712286\tbest: 0.4712286 (204)\ttotal: 6s\tremaining: 1.32s\n",
      "205:\tlearn: 0.4681653\ttest: 0.4712278\tbest: 0.4712278 (205)\ttotal: 6.03s\tremaining: 1.29s\n",
      "206:\tlearn: 0.4681588\ttest: 0.4712206\tbest: 0.4712206 (206)\ttotal: 6.06s\tremaining: 1.26s\n",
      "207:\tlearn: 0.4680640\ttest: 0.4711626\tbest: 0.4711626 (207)\ttotal: 6.09s\tremaining: 1.23s\n",
      "208:\tlearn: 0.4680505\ttest: 0.4711703\tbest: 0.4711626 (207)\ttotal: 6.12s\tremaining: 1.2s\n",
      "209:\tlearn: 0.4680492\ttest: 0.4711695\tbest: 0.4711626 (207)\ttotal: 6.14s\tremaining: 1.17s\n",
      "210:\tlearn: 0.4679337\ttest: 0.4710830\tbest: 0.4710830 (210)\ttotal: 6.17s\tremaining: 1.14s\n",
      "211:\tlearn: 0.4679314\ttest: 0.4710845\tbest: 0.4710830 (210)\ttotal: 6.2s\tremaining: 1.11s\n",
      "212:\tlearn: 0.4679075\ttest: 0.4711052\tbest: 0.4710830 (210)\ttotal: 6.23s\tremaining: 1.08s\n",
      "213:\tlearn: 0.4678097\ttest: 0.4710433\tbest: 0.4710433 (213)\ttotal: 6.26s\tremaining: 1.05s\n",
      "214:\tlearn: 0.4677699\ttest: 0.4710269\tbest: 0.4710269 (214)\ttotal: 6.29s\tremaining: 1.02s\n",
      "215:\tlearn: 0.4676408\ttest: 0.4709557\tbest: 0.4709557 (215)\ttotal: 6.32s\tremaining: 994ms\n",
      "216:\tlearn: 0.4675605\ttest: 0.4709101\tbest: 0.4709101 (216)\ttotal: 6.35s\tremaining: 965ms\n",
      "217:\tlearn: 0.4674585\ttest: 0.4709178\tbest: 0.4709101 (216)\ttotal: 6.38s\tremaining: 937ms\n",
      "218:\tlearn: 0.4673967\ttest: 0.4709076\tbest: 0.4709076 (218)\ttotal: 6.41s\tremaining: 907ms\n",
      "219:\tlearn: 0.4673946\ttest: 0.4709043\tbest: 0.4709043 (219)\ttotal: 6.44s\tremaining: 878ms\n",
      "220:\tlearn: 0.4672798\ttest: 0.4708425\tbest: 0.4708425 (220)\ttotal: 6.46s\tremaining: 848ms\n",
      "221:\tlearn: 0.4672739\ttest: 0.4708286\tbest: 0.4708286 (221)\ttotal: 6.49s\tremaining: 819ms\n",
      "222:\tlearn: 0.4672068\ttest: 0.4708295\tbest: 0.4708286 (221)\ttotal: 6.54s\tremaining: 791ms\n",
      "223:\tlearn: 0.4671403\ttest: 0.4708343\tbest: 0.4708286 (221)\ttotal: 6.57s\tremaining: 762ms\n",
      "224:\tlearn: 0.4671399\ttest: 0.4708359\tbest: 0.4708286 (221)\ttotal: 6.59s\tremaining: 732ms\n",
      "225:\tlearn: 0.4670541\ttest: 0.4707324\tbest: 0.4707324 (225)\ttotal: 6.62s\tremaining: 703ms\n",
      "226:\tlearn: 0.4669772\ttest: 0.4706917\tbest: 0.4706917 (226)\ttotal: 6.65s\tremaining: 673ms\n",
      "227:\tlearn: 0.4669759\ttest: 0.4706911\tbest: 0.4706911 (227)\ttotal: 6.67s\tremaining: 644ms\n",
      "228:\tlearn: 0.4669152\ttest: 0.4706671\tbest: 0.4706671 (228)\ttotal: 6.7s\tremaining: 615ms\n",
      "229:\tlearn: 0.4669121\ttest: 0.4706683\tbest: 0.4706671 (228)\ttotal: 6.73s\tremaining: 585ms\n",
      "230:\tlearn: 0.4669118\ttest: 0.4706694\tbest: 0.4706671 (228)\ttotal: 6.75s\tremaining: 556ms\n",
      "231:\tlearn: 0.4668813\ttest: 0.4706514\tbest: 0.4706514 (231)\ttotal: 6.78s\tremaining: 526ms\n",
      "232:\tlearn: 0.4668780\ttest: 0.4706502\tbest: 0.4706502 (232)\ttotal: 6.81s\tremaining: 497ms\n",
      "233:\tlearn: 0.4667876\ttest: 0.4706051\tbest: 0.4706051 (233)\ttotal: 6.84s\tremaining: 468ms\n",
      "234:\tlearn: 0.4667704\ttest: 0.4706138\tbest: 0.4706051 (233)\ttotal: 6.87s\tremaining: 439ms\n",
      "235:\tlearn: 0.4667471\ttest: 0.4706088\tbest: 0.4706051 (233)\ttotal: 6.9s\tremaining: 409ms\n",
      "236:\tlearn: 0.4667403\ttest: 0.4706078\tbest: 0.4706051 (233)\ttotal: 6.93s\tremaining: 380ms\n",
      "237:\tlearn: 0.4667006\ttest: 0.4705792\tbest: 0.4705792 (237)\ttotal: 6.96s\tremaining: 351ms\n",
      "238:\tlearn: 0.4666556\ttest: 0.4705790\tbest: 0.4705790 (238)\ttotal: 6.99s\tremaining: 322ms\n",
      "239:\tlearn: 0.4666521\ttest: 0.4705800\tbest: 0.4705790 (238)\ttotal: 7.01s\tremaining: 292ms\n",
      "240:\tlearn: 0.4666187\ttest: 0.4705678\tbest: 0.4705678 (240)\ttotal: 7.05s\tremaining: 263ms\n",
      "241:\tlearn: 0.4664883\ttest: 0.4705056\tbest: 0.4705056 (241)\ttotal: 7.08s\tremaining: 234ms\n",
      "242:\tlearn: 0.4664224\ttest: 0.4704770\tbest: 0.4704770 (242)\ttotal: 7.11s\tremaining: 205ms\n",
      "243:\tlearn: 0.4664213\ttest: 0.4704747\tbest: 0.4704747 (243)\ttotal: 7.14s\tremaining: 176ms\n",
      "244:\tlearn: 0.4664203\ttest: 0.4704759\tbest: 0.4704747 (243)\ttotal: 7.17s\tremaining: 146ms\n",
      "245:\tlearn: 0.4664193\ttest: 0.4704757\tbest: 0.4704747 (243)\ttotal: 7.2s\tremaining: 117ms\n",
      "246:\tlearn: 0.4664163\ttest: 0.4704767\tbest: 0.4704747 (243)\ttotal: 7.23s\tremaining: 87.8ms\n",
      "247:\tlearn: 0.4663225\ttest: 0.4704288\tbest: 0.4704288 (247)\ttotal: 7.26s\tremaining: 58.6ms\n",
      "248:\tlearn: 0.4661258\ttest: 0.4702450\tbest: 0.4702450 (248)\ttotal: 7.29s\tremaining: 29.3ms\n",
      "249:\tlearn: 0.4661126\ttest: 0.4702547\tbest: 0.4702450 (248)\ttotal: 7.32s\tremaining: 0us\n",
      "\n",
      "bestTest = 0.4702450204\n",
      "bestIteration = 248\n",
      "\n",
      "Shrink model to first 249 iterations.\n",
      "Best score: 0.775\n"
     ]
    }
   ],
   "source": [
    "from catboost import CatBoostClassifier\n",
    "cb = CatBoostClassifier(class_weights=[0.79,1.37])\n",
    "\n",
    "categorical_feature_indices = [4,5,8]\n",
    "                  \n",
    "params_cb = {'depth':[4],\n",
    "          'iterations':[250],\n",
    "          'learning_rate':[0.1], \n",
    "          'l2_leaf_reg':[5],\n",
    "          'border_count':[20],\n",
    "          'ctr_border_count':[50,5,10,20],\n",
    "          'thread_count':[4  ]\n",
    "\n",
    "            }#'n_estimators':[1,2,5,40,50],\n",
    "              \n",
    "\n",
    "# Instantiate grid_rf\n",
    "grid_cb = GridSearchCV(estimator=cb,\n",
    "                       param_grid=params_cb,\n",
    "                       cv=2,\n",
    "                       verbose=1,\n",
    "                       n_jobs=-1)\n",
    "\n",
    "\n",
    "grid_cb.fit(X_train, y_train,cat_features=categorical_feature_indices,eval_set = (X_test,y_test)) \n",
    "\n",
    "# Extract the best estimator\n",
    "best_model_cb = grid_cb.best_estimator_\n",
    "\n",
    "# Predict test set labels\n",
    "ypred = best_model_cb.predict(X_test)\n",
    "\n",
    "print('Best score: {:.3f}'.format(grid_cb.best_score_)) \n",
    "\n",
    "\n"
   ]
  },
  {
   "cell_type": "code",
   "execution_count": 83,
   "metadata": {},
   "outputs": [
    {
     "data": {
      "text/plain": [
       "{'loss_function': 'Logloss',\n",
       " 'class_weights': [0.79, 1.37],\n",
       " 'border_count': 20,\n",
       " 'ctr_border_count': 50,\n",
       " 'depth': 4,\n",
       " 'iterations': 250,\n",
       " 'l2_leaf_reg': 5,\n",
       " 'learning_rate': 0.1,\n",
       " 'thread_count': 4}"
      ]
     },
     "execution_count": 83,
     "metadata": {},
     "output_type": "execute_result"
    }
   ],
   "source": [
    "best_model_cb.get_params()"
   ]
  },
  {
   "cell_type": "code",
   "execution_count": 87,
   "metadata": {},
   "outputs": [
    {
     "data": {
      "text/plain": [
       "0.7818805765271105"
      ]
     },
     "execution_count": 87,
     "metadata": {},
     "output_type": "execute_result"
    }
   ],
   "source": [
    "confusion_matrix(y_test,ypred)\n",
    "accuracy_score(y_test,ypred)"
   ]
  },
  {
   "cell_type": "code",
   "execution_count": 88,
   "metadata": {},
   "outputs": [
    {
     "data": {
      "text/plain": [
       "[Text(0, 0, 'weekday_pct'),\n",
       " Text(0, 0, 'city_mean'),\n",
       " Text(0, 0, 'avg_rating_by_driver'),\n",
       " Text(0, 0, 'phone'),\n",
       " Text(0, 0, 'perfect_riders'),\n",
       " Text(0, 0, 'trips_in_first_30_days'),\n",
       " Text(0, 0, 'weekday_surge'),\n",
       " Text(0, 0, 'ultimate_black_user'),\n",
       " Text(0, 0, 'surge_pct'),\n",
       " Text(0, 0, 'avg_dist'),\n",
       " Text(0, 0, 'avg_surge'),\n",
       " Text(0, 0, 'avg_rating_of_driver'),\n",
       " Text(0, 0, 'city_dist_by_cust'),\n",
       " Text(0, 0, 'city'),\n",
       " Text(0, 0, 'signup_day'),\n",
       " Text(0, 0, 'avg_surge_cust_over_city'),\n",
       " Text(0, 0, 'days_till_signup'),\n",
       " Text(0, 0, 'perfect_drivers')]"
      ]
     },
     "execution_count": 88,
     "metadata": {},
     "output_type": "execute_result"
    },
    {
     "data": {
      "image/png": "[encoded data removed]",
      "text/plain": [
       "<Figure size 432x288 with 1 Axes>"
      ]
     },
     "metadata": {
      "needs_background": "light"
     },
     "output_type": "display_data"
    }
   ],
   "source": [
    "importance=pd.DataFrame(best_model_cb.get_feature_importance())\n",
    "importance.index=features\n",
    "sorted_imp=importance.sort_values(by=0,ascending=False)\n",
    "index=sorted_imp.index\n",
    "fig=sorted_imp.plot(kind='barh',logx=False)\n",
    "fig.set_yticklabels(index, minor=False, rotation=0)"
   ]
  },
  {
   "cell_type": "code",
   "execution_count": 89,
   "metadata": {
    "scrolled": true
   },
   "outputs": [
    {
     "data": {
      "text/plain": [
       "<matplotlib.axes._subplots.AxesSubplot at 0x26f7498d828>"
      ]
     },
     "execution_count": 89,
     "metadata": {},
     "output_type": "execute_result"
    },
    {
     "data": {
      "image/png": "[encoded data removed]",
      "text/plain": [
       "<Figure size 432x288 with 1 Axes>"
      ]
     },
     "metadata": {
      "needs_background": "light"
     },
     "output_type": "display_data"
    }
   ],
   "source": [
    "rf_feat=best_model_rf.feature_importances_\n",
    "rf_df=pd.DataFrame(rf_feat,index=features_dum)#\n",
    "rf_df.columns=['importance']\n",
    "rf_df.sort_values(by='importance',inplace=True,ascending=True)\n",
    "rf_df.plot(kind='barh',sort_columns=True)"
   ]
  },
  {
   "cell_type": "code",
   "execution_count": 90,
   "metadata": {},
   "outputs": [
    {
     "data": {
      "text/plain": [
       "20"
      ]
     },
     "execution_count": 90,
     "metadata": {},
     "output_type": "execute_result"
    }
   ],
   "source": [
    "rf_feat.size"
   ]
  },
  {
   "cell_type": "code",
   "execution_count": 105,
   "metadata": {},
   "outputs": [],
   "source": [
    "#len(feat_dum)"
   ]
  },
  {
   "cell_type": "code",
   "execution_count": 92,
   "metadata": {},
   "outputs": [],
   "source": [
    "import numpy as np\n",
    "rounded=np.round(importance.values,1)"
   ]
  },
  {
   "cell_type": "code",
   "execution_count": 93,
   "metadata": {},
   "outputs": [],
   "source": [
    "sorted_array=np.sort(rounded,axis=0)"
   ]
  },
  {
   "cell_type": "code",
   "execution_count": 94,
   "metadata": {},
   "outputs": [
    {
     "data": {
      "text/plain": [
       "array([[ 0.5],\n",
       "       [ 0.6],\n",
       "       [ 0.6],\n",
       "       [ 0.6],\n",
       "       [ 0.8],\n",
       "       [ 1.6],\n",
       "       [ 1.8],\n",
       "       [ 2. ],\n",
       "       [ 2.1],\n",
       "       [ 3.9],\n",
       "       [ 6.2],\n",
       "       [ 6.8],\n",
       "       [ 6.8],\n",
       "       [ 7.5],\n",
       "       [ 9.4],\n",
       "       [10.3],\n",
       "       [16.7],\n",
       "       [21.9]])"
      ]
     },
     "execution_count": 94,
     "metadata": {},
     "output_type": "execute_result"
    }
   ],
   "source": [
    "(sorted_array)\n"
   ]
  },
  {
   "cell_type": "code",
   "execution_count": 95,
   "metadata": {},
   "outputs": [
    {
     "data": {
      "text/plain": [
       "array([ 0, 10, 20, 30, 40, 50, 60, 70, 80, 90])"
      ]
     },
     "execution_count": 95,
     "metadata": {},
     "output_type": "execute_result"
    }
   ],
   "source": [
    "np.arange(0,100,10)"
   ]
  },
  {
   "cell_type": "code",
   "execution_count": 96,
   "metadata": {},
   "outputs": [
    {
     "data": {
      "text/plain": [
       "<matplotlib.axes._subplots.AxesSubplot at 0x26f727a5358>"
      ]
     },
     "execution_count": 96,
     "metadata": {},
     "output_type": "execute_result"
    },
    {
     "data": {
      "image/png": "[encoded data removed]",
      "text/plain": [
       "<Figure size 432x288 with 2 Axes>"
      ]
     },
     "metadata": {
      "needs_background": "light"
     },
     "output_type": "display_data"
    }
   ],
   "source": [
    "sns.heatmap(df1.corr(),square=True,vmin=0.00)\n"
   ]
  },
  {
   "cell_type": "code",
   "execution_count": 97,
   "metadata": {},
   "outputs": [],
   "source": [
    "import seaborn as sns"
   ]
  },
  {
   "cell_type": "code",
   "execution_count": 98,
   "metadata": {},
   "outputs": [],
   "source": [
    "a=df1.groupby('city').sum().is_retained"
   ]
  },
  {
   "cell_type": "code",
   "execution_count": 99,
   "metadata": {},
   "outputs": [],
   "source": [
    "b=df1.groupby('city').count().is_retained"
   ]
  },
  {
   "cell_type": "code",
   "execution_count": 100,
   "metadata": {},
   "outputs": [
    {
     "data": {
      "text/plain": [
       "avg_dist                    15915\n",
       "avg_rating_by_driver        15915\n",
       "avg_rating_of_driver        15915\n",
       "avg_surge                   15915\n",
       "city                        15915\n",
       "last_trip_date              15915\n",
       "phone                       15915\n",
       "signup_date                 15915\n",
       "surge_pct                   15915\n",
       "trips_in_first_30_days      15915\n",
       "ultimate_black_user         15915\n",
       "weekday_pct                 15915\n",
       "days_till_signup            15915\n",
       "days_till_last_ride         15915\n",
       "is_retained                 15915\n",
       "days_between_dates          15915\n",
       "city_mean                   15915\n",
       "city_dist_by_cust           15915\n",
       "perfect_riders              15915\n",
       "perfect_drivers             15915\n",
       "weekday_surge               15915\n",
       "avg_surge_cust_over_city    15915\n",
       "signup_day                  15915\n",
       "dtype: int64"
      ]
     },
     "execution_count": 100,
     "metadata": {},
     "output_type": "execute_result"
    }
   ],
   "source": [
    "df1[df1.city=='Astapor'].count()"
   ]
  },
  {
   "cell_type": "code",
   "execution_count": 101,
   "metadata": {},
   "outputs": [
    {
     "data": {
      "text/plain": [
       "3986"
      ]
     },
     "execution_count": 101,
     "metadata": {},
     "output_type": "execute_result"
    }
   ],
   "source": [
    "df1[df1.city=='Astapor'].is_retained.sum()"
   ]
  },
  {
   "cell_type": "code",
   "execution_count": 102,
   "metadata": {},
   "outputs": [],
   "source": [
    "c=a/b"
   ]
  },
  {
   "cell_type": "code",
   "execution_count": 103,
   "metadata": {},
   "outputs": [
    {
     "data": {
      "text/plain": [
       "<matplotlib.axes._subplots.AxesSubplot at 0x26f72858320>"
      ]
     },
     "execution_count": 103,
     "metadata": {},
     "output_type": "execute_result"
    },
    {
     "data": {
      "image/png": "[encoded data removed]",
      "text/plain": [
       "<Figure size 432x288 with 1 Axes>"
      ]
     },
     "metadata": {
      "needs_background": "light"
     },
     "output_type": "display_data"
    }
   ],
   "source": [
    "c.plot(kind='bar',rot=0, title='City Retain Rates')"
   ]
  },
  {
   "cell_type": "code",
   "execution_count": 104,
   "metadata": {},
   "outputs": [
    {
     "data": {
      "text/html": [
       "<div>\n",
       "<style scoped>\n",
       "    .dataframe tbody tr th:only-of-type {\n",
       "        vertical-align: middle;\n",
       "    }\n",
       "\n",
       "    .dataframe tbody tr th {\n",
       "        vertical-align: top;\n",
       "    }\n",
       "\n",
       "    .dataframe thead th {\n",
       "        text-align: right;\n",
       "    }\n",
       "</style>\n",
       "<table border=\"1\" class=\"dataframe\">\n",
       "  <thead>\n",
       "    <tr style=\"text-align: right;\">\n",
       "      <th></th>\n",
       "      <th>avg_dist</th>\n",
       "      <th>avg_rating_by_driver</th>\n",
       "      <th>avg_rating_of_driver</th>\n",
       "      <th>avg_surge</th>\n",
       "      <th>city</th>\n",
       "      <th>last_trip_date</th>\n",
       "      <th>phone</th>\n",
       "      <th>signup_date</th>\n",
       "      <th>surge_pct</th>\n",
       "      <th>trips_in_first_30_days</th>\n",
       "      <th>...</th>\n",
       "      <th>days_till_last_ride</th>\n",
       "      <th>is_retained</th>\n",
       "      <th>days_between_dates</th>\n",
       "      <th>city_mean</th>\n",
       "      <th>city_dist_by_cust</th>\n",
       "      <th>perfect_riders</th>\n",
       "      <th>perfect_drivers</th>\n",
       "      <th>weekday_surge</th>\n",
       "      <th>avg_surge_cust_over_city</th>\n",
       "      <th>signup_day</th>\n",
       "    </tr>\n",
       "  </thead>\n",
       "  <tbody>\n",
       "    <tr>\n",
       "      <th>0</th>\n",
       "      <td>3.67</td>\n",
       "      <td>5.0</td>\n",
       "      <td>4.7</td>\n",
       "      <td>1.10</td>\n",
       "      <td>King's Landing</td>\n",
       "      <td>2014-06-17</td>\n",
       "      <td>iPhone</td>\n",
       "      <td>2014-01-25</td>\n",
       "      <td>15.4</td>\n",
       "      <td>4</td>\n",
       "      <td>...</td>\n",
       "      <td>14</td>\n",
       "      <td>1</td>\n",
       "      <td>143</td>\n",
       "      <td>2.50</td>\n",
       "      <td>21.959518</td>\n",
       "      <td>1</td>\n",
       "      <td>0</td>\n",
       "      <td>711.48</td>\n",
       "      <td>1.037736</td>\n",
       "      <td>5</td>\n",
       "    </tr>\n",
       "    <tr>\n",
       "      <th>1</th>\n",
       "      <td>8.26</td>\n",
       "      <td>5.0</td>\n",
       "      <td>5.0</td>\n",
       "      <td>1.00</td>\n",
       "      <td>Astapor</td>\n",
       "      <td>2014-05-05</td>\n",
       "      <td>Android</td>\n",
       "      <td>2014-01-29</td>\n",
       "      <td>0.0</td>\n",
       "      <td>0</td>\n",
       "      <td>...</td>\n",
       "      <td>57</td>\n",
       "      <td>0</td>\n",
       "      <td>96</td>\n",
       "      <td>1.99</td>\n",
       "      <td>44.714354</td>\n",
       "      <td>1</td>\n",
       "      <td>1</td>\n",
       "      <td>0.00</td>\n",
       "      <td>0.943396</td>\n",
       "      <td>2</td>\n",
       "    </tr>\n",
       "    <tr>\n",
       "      <th>2</th>\n",
       "      <td>0.77</td>\n",
       "      <td>5.0</td>\n",
       "      <td>4.3</td>\n",
       "      <td>1.00</td>\n",
       "      <td>Astapor</td>\n",
       "      <td>2014-01-07</td>\n",
       "      <td>iPhone</td>\n",
       "      <td>2014-01-06</td>\n",
       "      <td>0.0</td>\n",
       "      <td>3</td>\n",
       "      <td>...</td>\n",
       "      <td>175</td>\n",
       "      <td>0</td>\n",
       "      <td>1</td>\n",
       "      <td>1.99</td>\n",
       "      <td>4.168287</td>\n",
       "      <td>1</td>\n",
       "      <td>0</td>\n",
       "      <td>0.00</td>\n",
       "      <td>0.943396</td>\n",
       "      <td>0</td>\n",
       "    </tr>\n",
       "    <tr>\n",
       "      <th>3</th>\n",
       "      <td>2.36</td>\n",
       "      <td>4.9</td>\n",
       "      <td>4.6</td>\n",
       "      <td>1.14</td>\n",
       "      <td>King's Landing</td>\n",
       "      <td>2014-06-29</td>\n",
       "      <td>iPhone</td>\n",
       "      <td>2014-01-10</td>\n",
       "      <td>20.0</td>\n",
       "      <td>9</td>\n",
       "      <td>...</td>\n",
       "      <td>2</td>\n",
       "      <td>1</td>\n",
       "      <td>170</td>\n",
       "      <td>2.50</td>\n",
       "      <td>14.121107</td>\n",
       "      <td>0</td>\n",
       "      <td>0</td>\n",
       "      <td>1600.00</td>\n",
       "      <td>1.075472</td>\n",
       "      <td>4</td>\n",
       "    </tr>\n",
       "    <tr>\n",
       "      <th>4</th>\n",
       "      <td>3.13</td>\n",
       "      <td>4.9</td>\n",
       "      <td>4.4</td>\n",
       "      <td>1.19</td>\n",
       "      <td>Winterfell</td>\n",
       "      <td>2014-03-15</td>\n",
       "      <td>Android</td>\n",
       "      <td>2014-01-27</td>\n",
       "      <td>11.8</td>\n",
       "      <td>14</td>\n",
       "      <td>...</td>\n",
       "      <td>108</td>\n",
       "      <td>0</td>\n",
       "      <td>47</td>\n",
       "      <td>2.47</td>\n",
       "      <td>18.730170</td>\n",
       "      <td>0</td>\n",
       "      <td>0</td>\n",
       "      <td>972.32</td>\n",
       "      <td>1.144231</td>\n",
       "      <td>0</td>\n",
       "    </tr>\n",
       "  </tbody>\n",
       "</table>\n",
       "<p>5 rows × 23 columns</p>\n",
       "</div>"
      ],
      "text/plain": [
       "   avg_dist  avg_rating_by_driver  avg_rating_of_driver  avg_surge  \\\n",
       "0      3.67                   5.0                   4.7       1.10   \n",
       "1      8.26                   5.0                   5.0       1.00   \n",
       "2      0.77                   5.0                   4.3       1.00   \n",
       "3      2.36                   4.9                   4.6       1.14   \n",
       "4      3.13                   4.9                   4.4       1.19   \n",
       "\n",
       "             city last_trip_date    phone signup_date  surge_pct  \\\n",
       "0  King's Landing     2014-06-17   iPhone  2014-01-25       15.4   \n",
       "1         Astapor     2014-05-05  Android  2014-01-29        0.0   \n",
       "2         Astapor     2014-01-07   iPhone  2014-01-06        0.0   \n",
       "3  King's Landing     2014-06-29   iPhone  2014-01-10       20.0   \n",
       "4      Winterfell     2014-03-15  Android  2014-01-27       11.8   \n",
       "\n",
       "   trips_in_first_30_days  ...  days_till_last_ride  is_retained  \\\n",
       "0                       4  ...                   14            1   \n",
       "1                       0  ...                   57            0   \n",
       "2                       3  ...                  175            0   \n",
       "3                       9  ...                    2            1   \n",
       "4                      14  ...                  108            0   \n",
       "\n",
       "   days_between_dates  city_mean  city_dist_by_cust  perfect_riders  \\\n",
       "0                 143       2.50          21.959518               1   \n",
       "1                  96       1.99          44.714354               1   \n",
       "2                   1       1.99           4.168287               1   \n",
       "3                 170       2.50          14.121107               0   \n",
       "4                  47       2.47          18.730170               0   \n",
       "\n",
       "   perfect_drivers  weekday_surge  avg_surge_cust_over_city  signup_day  \n",
       "0                0         711.48                  1.037736           5  \n",
       "1                1           0.00                  0.943396           2  \n",
       "2                0           0.00                  0.943396           0  \n",
       "3                0        1600.00                  1.075472           4  \n",
       "4                0         972.32                  1.144231           0  \n",
       "\n",
       "[5 rows x 23 columns]"
      ]
     },
     "execution_count": 104,
     "metadata": {},
     "output_type": "execute_result"
    }
   ],
   "source": [
    "df1.head()"
   ]
  },
  {
   "cell_type": "code",
   "execution_count": 110,
   "metadata": {},
   "outputs": [],
   "source": []
  },
  {
   "cell_type": "code",
   "execution_count": 113,
   "metadata": {},
   "outputs": [
    {
     "name": "stdout",
     "output_type": "stream",
     "text": [
      "Retain rate is 37.0 %\n"
     ]
    }
   ],
   "source": []
  },
  {
   "cell_type": "code",
   "execution_count": 115,
   "metadata": {},
   "outputs": [
    {
     "data": {
      "text/plain": [
       "Index(['avg_dist', 'avg_rating_by_driver', 'avg_rating_of_driver', 'avg_surge',\n",
       "       'city', 'last_trip_date', 'phone', 'signup_date', 'surge_pct',\n",
       "       'trips_in_first_30_days', 'ultimate_black_user', 'weekday_pct',\n",
       "       'days_till_signup', 'days_till_last_ride', 'is_retained',\n",
       "       'days_between_dates', 'city_mean', 'city_dist_by_cust',\n",
       "       'perfect_riders', 'perfect_drivers', 'weekday_surge',\n",
       "       'avg_surge_cust_over_city', 'signup_day'],\n",
       "      dtype='object')"
      ]
     },
     "execution_count": 115,
     "metadata": {},
     "output_type": "execute_result"
    }
   ],
   "source": [
    "df1.columns\n"
   ]
  },
  {
   "cell_type": "code",
   "execution_count": 125,
   "metadata": {},
   "outputs": [
    {
     "data": {
      "text/plain": [
       "<matplotlib.axes._subplots.AxesSubplot at 0x26f77046a20>"
      ]
     },
     "execution_count": 125,
     "metadata": {},
     "output_type": "execute_result"
    },
    {
     "data": {
      "image/png": "[encoded data removed]",
      "text/plain": [
       "<Figure size 1656x720 with 1 Axes>"
      ]
     },
     "metadata": {
      "needs_background": "light"
     },
     "output_type": "display_data"
    }
   ],
   "source": [
    "df1.groupby(\"is_retained\").mean().plot(kind='bar',rot=70,figsize=(23,10))"
   ]
  },
  {
   "cell_type": "code",
   "execution_count": 126,
   "metadata": {},
   "outputs": [
    {
     "data": {
      "text/html": [
       "<div>\n",
       "<style scoped>\n",
       "    .dataframe tbody tr th:only-of-type {\n",
       "        vertical-align: middle;\n",
       "    }\n",
       "\n",
       "    .dataframe tbody tr th {\n",
       "        vertical-align: top;\n",
       "    }\n",
       "\n",
       "    .dataframe thead th {\n",
       "        text-align: right;\n",
       "    }\n",
       "</style>\n",
       "<table border=\"1\" class=\"dataframe\">\n",
       "  <thead>\n",
       "    <tr style=\"text-align: right;\">\n",
       "      <th></th>\n",
       "      <th>avg_dist</th>\n",
       "      <th>avg_rating_by_driver</th>\n",
       "      <th>avg_rating_of_driver</th>\n",
       "      <th>avg_surge</th>\n",
       "      <th>surge_pct</th>\n",
       "      <th>trips_in_first_30_days</th>\n",
       "      <th>ultimate_black_user</th>\n",
       "      <th>weekday_pct</th>\n",
       "      <th>days_till_signup</th>\n",
       "      <th>days_till_last_ride</th>\n",
       "      <th>days_between_dates</th>\n",
       "      <th>city_mean</th>\n",
       "      <th>city_dist_by_cust</th>\n",
       "      <th>perfect_riders</th>\n",
       "      <th>perfect_drivers</th>\n",
       "      <th>weekday_surge</th>\n",
       "      <th>avg_surge_cust_over_city</th>\n",
       "      <th>signup_day</th>\n",
       "    </tr>\n",
       "    <tr>\n",
       "      <th>is_retained</th>\n",
       "      <th></th>\n",
       "      <th></th>\n",
       "      <th></th>\n",
       "      <th></th>\n",
       "      <th></th>\n",
       "      <th></th>\n",
       "      <th></th>\n",
       "      <th></th>\n",
       "      <th></th>\n",
       "      <th></th>\n",
       "      <th></th>\n",
       "      <th></th>\n",
       "      <th></th>\n",
       "      <th></th>\n",
       "      <th></th>\n",
       "      <th></th>\n",
       "      <th></th>\n",
       "      <th></th>\n",
       "    </tr>\n",
       "  </thead>\n",
       "  <tbody>\n",
       "    <tr>\n",
       "      <th>0</th>\n",
       "      <td>6.207701</td>\n",
       "      <td>4.785662</td>\n",
       "      <td>4.606229</td>\n",
       "      <td>1.042009</td>\n",
       "      <td>5.062364</td>\n",
       "      <td>1.694696</td>\n",
       "      <td>0.309111</td>\n",
       "      <td>60.995641</td>\n",
       "      <td>165.318301</td>\n",
       "      <td>107.912269</td>\n",
       "      <td>57.406033</td>\n",
       "      <td>2.285693</td>\n",
       "      <td>35.856306</td>\n",
       "      <td>0.682158</td>\n",
       "      <td>0.460286</td>\n",
       "      <td>257.603104</td>\n",
       "      <td>0.992196</td>\n",
       "      <td>3.294112</td>\n",
       "    </tr>\n",
       "    <tr>\n",
       "      <th>1</th>\n",
       "      <td>5.105373</td>\n",
       "      <td>4.761434</td>\n",
       "      <td>4.593574</td>\n",
       "      <td>1.064137</td>\n",
       "      <td>8.101459</td>\n",
       "      <td>3.371056</td>\n",
       "      <td>0.513897</td>\n",
       "      <td>62.478582</td>\n",
       "      <td>165.698624</td>\n",
       "      <td>10.056363</td>\n",
       "      <td>155.642261</td>\n",
       "      <td>2.374606</td>\n",
       "      <td>30.005760</td>\n",
       "      <td>0.358291</td>\n",
       "      <td>0.338785</td>\n",
       "      <td>451.284438</td>\n",
       "      <td>1.012264</td>\n",
       "      <td>3.304470</td>\n",
       "    </tr>\n",
       "  </tbody>\n",
       "</table>\n",
       "</div>"
      ],
      "text/plain": [
       "             avg_dist  avg_rating_by_driver  avg_rating_of_driver  avg_surge  \\\n",
       "is_retained                                                                    \n",
       "0            6.207701              4.785662              4.606229   1.042009   \n",
       "1            5.105373              4.761434              4.593574   1.064137   \n",
       "\n",
       "             surge_pct  trips_in_first_30_days  ultimate_black_user  \\\n",
       "is_retained                                                           \n",
       "0             5.062364                1.694696             0.309111   \n",
       "1             8.101459                3.371056             0.513897   \n",
       "\n",
       "             weekday_pct  days_till_signup  days_till_last_ride  \\\n",
       "is_retained                                                       \n",
       "0              60.995641        165.318301           107.912269   \n",
       "1              62.478582        165.698624            10.056363   \n",
       "\n",
       "             days_between_dates  city_mean  city_dist_by_cust  perfect_riders  \\\n",
       "is_retained                                                                     \n",
       "0                     57.406033   2.285693          35.856306        0.682158   \n",
       "1                    155.642261   2.374606          30.005760        0.358291   \n",
       "\n",
       "             perfect_drivers  weekday_surge  avg_surge_cust_over_city  \\\n",
       "is_retained                                                             \n",
       "0                   0.460286     257.603104                  0.992196   \n",
       "1                   0.338785     451.284438                  1.012264   \n",
       "\n",
       "             signup_day  \n",
       "is_retained              \n",
       "0              3.294112  \n",
       "1              3.304470  "
      ]
     },
     "execution_count": 126,
     "metadata": {},
     "output_type": "execute_result"
    }
   ],
   "source": [
    "df1.groupby(\"is_retained\").mean()"
   ]
  },
  {
   "cell_type": "code",
   "execution_count": null,
   "metadata": {},
   "outputs": [],
   "source": []
  },
  {
   "cell_type": "code",
   "execution_count": null,
   "metadata": {},
   "outputs": [],
   "source": []
  },
  {
   "cell_type": "code",
   "execution_count": null,
   "metadata": {},
   "outputs": [],
   "source": []
  }
 ],
 "metadata": {
  "kernelspec": {
   "display_name": "Python 3",
   "language": "python",
   "name": "python3"
  },
  "language_info": {
   "codemirror_mode": {
    "name": "ipython",
    "version": 3
   },
   "file_extension": ".py",
   "mimetype": "text/x-python",
   "name": "python",
   "nbconvert_exporter": "python",
   "pygments_lexer": "ipython3",
   "version": "3.7.3"
  }
 },
 "nbformat": 4,
 "nbformat_minor": 2
}
